{
 "cells": [
  {
   "cell_type": "markdown",
   "id": "ba60de2f-179a-4a53-bd52-bf2f06c30e6f",
   "metadata": {
    "tags": []
   },
   "source": [
    "## Variables selection"
   ]
  },
  {
   "cell_type": "markdown",
   "id": "f41813ca-1491-4cec-acf2-818bfa82e79b",
   "metadata": {},
   "source": [
    "### Forward Feature Selection"
   ]
  },
  {
   "cell_type": "code",
   "execution_count": 1,
   "id": "0ef312a3-0184-462f-abee-cceea8674320",
   "metadata": {},
   "outputs": [],
   "source": [
    "import pandas as pd\n",
    "import numpy as np\n",
    "import matplotlib.pyplot as plt\n",
    "import seaborn as sns\n",
    "from sklearn.ensemble import RandomForestClassifier\n",
    "from mlxtend.feature_selection import SequentialFeatureSelector\n",
    "from sklearn import linear_model\n",
    "import warnings\n",
    "warnings.filterwarnings(\"ignore\")\n",
    "from mlxtend.feature_selection import ExhaustiveFeatureSelector as EFS\n",
    "from sklearn.feature_selection import RFE"
   ]
  },
  {
   "cell_type": "code",
   "execution_count": 3,
   "id": "43685974-5fae-4750-964c-996688158bf6",
   "metadata": {},
   "outputs": [],
   "source": [
    "# This is our dataset\n",
    "data = pd.read_csv(\"../data/superstore_clean.csv\")"
   ]
  },
  {
   "cell_type": "code",
   "execution_count": 4,
   "id": "b7758ce2-eccf-4f4a-ba2a-14a00bc9e112",
   "metadata": {},
   "outputs": [],
   "source": [
    "seleccion_df = data.copy()"
   ]
  },
  {
   "cell_type": "code",
   "execution_count": 5,
   "id": "845356b7-279b-4718-8c30-bf7f7b9536c5",
   "metadata": {},
   "outputs": [],
   "source": [
    "# Choose variables\n",
    "X = seleccion_df.drop('Response', axis = 1)\n",
    "y = seleccion_df.Response"
   ]
  },
  {
   "cell_type": "code",
   "execution_count": 6,
   "id": "3601f8dc-1d77-4365-8190-784652eda90b",
   "metadata": {},
   "outputs": [],
   "source": [
    "# Model Initialization\n",
    "sfs = SequentialFeatureSelector(RandomForestClassifier(n_estimators=100, random_state=0, n_jobs = -1),\n",
    "          k_features = 7,\n",
    "          forward= True,\n",
    "          floating = False,\n",
    "          verbose= 2,\n",
    "          scoring= 'roc_auc',\n",
    "          cv = 5\n",
    "         )"
   ]
  },
  {
   "cell_type": "code",
   "execution_count": 7,
   "id": "30374f5f-2d9c-404f-8a46-834234f6388d",
   "metadata": {},
   "outputs": [
    {
     "name": "stderr",
     "output_type": "stream",
     "text": [
      "[Parallel(n_jobs=1)]: Using backend SequentialBackend with 1 concurrent workers.\n",
      "[Parallel(n_jobs=1)]: Done   1 out of   1 | elapsed:    1.7s remaining:    0.0s\n",
      "[Parallel(n_jobs=1)]: Done  28 out of  28 | elapsed:   10.8s finished\n",
      "\n",
      "[2023-03-02 19:59:28] Features: 1/7 -- score: 0.6625802132513912[Parallel(n_jobs=1)]: Using backend SequentialBackend with 1 concurrent workers.\n",
      "[Parallel(n_jobs=1)]: Done   1 out of   1 | elapsed:    0.3s remaining:    0.0s\n",
      "[Parallel(n_jobs=1)]: Done  27 out of  27 | elapsed:    9.5s finished\n",
      "\n",
      "[2023-03-02 19:59:38] Features: 2/7 -- score: 0.6998808669858209[Parallel(n_jobs=1)]: Using backend SequentialBackend with 1 concurrent workers.\n",
      "[Parallel(n_jobs=1)]: Done   1 out of   1 | elapsed:    0.4s remaining:    0.0s\n",
      "[Parallel(n_jobs=1)]: Done  26 out of  26 | elapsed:    9.5s finished\n",
      "\n",
      "[2023-03-02 19:59:47] Features: 3/7 -- score: 0.7252348540610815[Parallel(n_jobs=1)]: Using backend SequentialBackend with 1 concurrent workers.\n",
      "[Parallel(n_jobs=1)]: Done   1 out of   1 | elapsed:    0.4s remaining:    0.0s\n",
      "[Parallel(n_jobs=1)]: Done  25 out of  25 | elapsed:    9.8s finished\n",
      "\n",
      "[2023-03-02 19:59:57] Features: 4/7 -- score: 0.733546698123493[Parallel(n_jobs=1)]: Using backend SequentialBackend with 1 concurrent workers.\n",
      "[Parallel(n_jobs=1)]: Done   1 out of   1 | elapsed:    0.4s remaining:    0.0s\n",
      "[Parallel(n_jobs=1)]: Done  24 out of  24 | elapsed:    9.9s finished\n",
      "\n",
      "[2023-03-02 20:00:07] Features: 5/7 -- score: 0.747408616476322[Parallel(n_jobs=1)]: Using backend SequentialBackend with 1 concurrent workers.\n",
      "[Parallel(n_jobs=1)]: Done   1 out of   1 | elapsed:    0.4s remaining:    0.0s\n",
      "[Parallel(n_jobs=1)]: Done  23 out of  23 | elapsed:    9.5s finished\n",
      "\n",
      "[2023-03-02 20:00:16] Features: 6/7 -- score: 0.771966553973655[Parallel(n_jobs=1)]: Using backend SequentialBackend with 1 concurrent workers.\n",
      "[Parallel(n_jobs=1)]: Done   1 out of   1 | elapsed:    0.4s remaining:    0.0s\n",
      "[Parallel(n_jobs=1)]: Done  22 out of  22 | elapsed:    9.3s finished\n",
      "\n",
      "[2023-03-02 20:00:26] Features: 7/7 -- score: 0.7863022596895091"
     ]
    }
   ],
   "source": [
    "# fit\n",
    "selected_features = sfs.fit(X, y)"
   ]
  },
  {
   "cell_type": "code",
   "execution_count": 8,
   "id": "30535f2b-fdfd-450c-93bb-f2edefaa63cf",
   "metadata": {},
   "outputs": [
    {
     "data": {
      "text/plain": [
       "('Marital_Status_Married',\n",
       " 'Teenhome',\n",
       " 'MntWines',\n",
       " 'MntMeatProducts',\n",
       " 'NumCatalogPurchases',\n",
       " 'NumStorePurchases',\n",
       " 'NumWebVisitsMonth')"
      ]
     },
     "execution_count": 8,
     "metadata": {},
     "output_type": "execute_result"
    }
   ],
   "source": [
    "selected_features.k_feature_names_ "
   ]
  },
  {
   "cell_type": "code",
   "execution_count": 9,
   "id": "c3a243c8-d364-4f8a-a52a-6aab2838cec2",
   "metadata": {},
   "outputs": [
    {
     "data": {
      "text/html": [
       "<div>\n",
       "<style scoped>\n",
       "    .dataframe tbody tr th:only-of-type {\n",
       "        vertical-align: middle;\n",
       "    }\n",
       "\n",
       "    .dataframe tbody tr th {\n",
       "        vertical-align: top;\n",
       "    }\n",
       "\n",
       "    .dataframe thead th {\n",
       "        text-align: right;\n",
       "    }\n",
       "</style>\n",
       "<table border=\"1\" class=\"dataframe\">\n",
       "  <thead>\n",
       "    <tr style=\"text-align: right;\">\n",
       "      <th></th>\n",
       "      <th>feature_idx</th>\n",
       "      <th>cv_scores</th>\n",
       "      <th>avg_score</th>\n",
       "      <th>feature_names</th>\n",
       "      <th>ci_bound</th>\n",
       "      <th>std_dev</th>\n",
       "      <th>std_err</th>\n",
       "    </tr>\n",
       "  </thead>\n",
       "  <tbody>\n",
       "    <tr>\n",
       "      <th>1</th>\n",
       "      <td>(19,)</td>\n",
       "      <td>[0.6572844439221217, 0.6475255302435192, 0.694...</td>\n",
       "      <td>0.66258</td>\n",
       "      <td>(NumCatalogPurchases,)</td>\n",
       "      <td>0.038033</td>\n",
       "      <td>0.029591</td>\n",
       "      <td>0.014795</td>\n",
       "    </tr>\n",
       "    <tr>\n",
       "      <th>2</th>\n",
       "      <td>(9, 19)</td>\n",
       "      <td>[0.6693892741019312, 0.73442655145326, 0.72967...</td>\n",
       "      <td>0.699881</td>\n",
       "      <td>(Teenhome, NumCatalogPurchases)</td>\n",
       "      <td>0.045105</td>\n",
       "      <td>0.035094</td>\n",
       "      <td>0.017547</td>\n",
       "    </tr>\n",
       "    <tr>\n",
       "      <th>3</th>\n",
       "      <td>(9, 19, 21)</td>\n",
       "      <td>[0.7320092451130176, 0.762274155538099, 0.7313...</td>\n",
       "      <td>0.725235</td>\n",
       "      <td>(Teenhome, NumCatalogPurchases, NumWebVisitsMo...</td>\n",
       "      <td>0.043933</td>\n",
       "      <td>0.034182</td>\n",
       "      <td>0.017091</td>\n",
       "    </tr>\n",
       "    <tr>\n",
       "      <th>4</th>\n",
       "      <td>(6, 9, 19, 21)</td>\n",
       "      <td>[0.7603713714890116, 0.7427533385703063, 0.717...</td>\n",
       "      <td>0.733547</td>\n",
       "      <td>(Marital_Status_Married, Teenhome, NumCatalogP...</td>\n",
       "      <td>0.025172</td>\n",
       "      <td>0.019584</td>\n",
       "      <td>0.009792</td>\n",
       "    </tr>\n",
       "    <tr>\n",
       "      <th>5</th>\n",
       "      <td>(6, 9, 11, 19, 21)</td>\n",
       "      <td>[0.770615426802993, 0.7379222309505107, 0.7515...</td>\n",
       "      <td>0.747409</td>\n",
       "      <td>(Marital_Status_Married, Teenhome, MntWines, N...</td>\n",
       "      <td>0.023683</td>\n",
       "      <td>0.018426</td>\n",
       "      <td>0.009213</td>\n",
       "    </tr>\n",
       "    <tr>\n",
       "      <th>6</th>\n",
       "      <td>(6, 9, 11, 13, 19, 21)</td>\n",
       "      <td>[0.799858972852274, 0.7360369206598586, 0.8032...</td>\n",
       "      <td>0.771967</td>\n",
       "      <td>(Marital_Status_Married, Teenhome, MntWines, M...</td>\n",
       "      <td>0.03538</td>\n",
       "      <td>0.027527</td>\n",
       "      <td>0.013763</td>\n",
       "    </tr>\n",
       "    <tr>\n",
       "      <th>7</th>\n",
       "      <td>(6, 9, 11, 13, 19, 20, 21)</td>\n",
       "      <td>[0.8172719081756571, 0.7732325216025138, 0.796...</td>\n",
       "      <td>0.786302</td>\n",
       "      <td>(Marital_Status_Married, Teenhome, MntWines, M...</td>\n",
       "      <td>0.025858</td>\n",
       "      <td>0.020118</td>\n",
       "      <td>0.010059</td>\n",
       "    </tr>\n",
       "  </tbody>\n",
       "</table>\n",
       "</div>"
      ],
      "text/plain": [
       "                  feature_idx  \\\n",
       "1                       (19,)   \n",
       "2                     (9, 19)   \n",
       "3                 (9, 19, 21)   \n",
       "4              (6, 9, 19, 21)   \n",
       "5          (6, 9, 11, 19, 21)   \n",
       "6      (6, 9, 11, 13, 19, 21)   \n",
       "7  (6, 9, 11, 13, 19, 20, 21)   \n",
       "\n",
       "                                           cv_scores avg_score  \\\n",
       "1  [0.6572844439221217, 0.6475255302435192, 0.694...   0.66258   \n",
       "2  [0.6693892741019312, 0.73442655145326, 0.72967...  0.699881   \n",
       "3  [0.7320092451130176, 0.762274155538099, 0.7313...  0.725235   \n",
       "4  [0.7603713714890116, 0.7427533385703063, 0.717...  0.733547   \n",
       "5  [0.770615426802993, 0.7379222309505107, 0.7515...  0.747409   \n",
       "6  [0.799858972852274, 0.7360369206598586, 0.8032...  0.771967   \n",
       "7  [0.8172719081756571, 0.7732325216025138, 0.796...  0.786302   \n",
       "\n",
       "                                       feature_names  ci_bound   std_dev  \\\n",
       "1                             (NumCatalogPurchases,)  0.038033  0.029591   \n",
       "2                    (Teenhome, NumCatalogPurchases)  0.045105  0.035094   \n",
       "3  (Teenhome, NumCatalogPurchases, NumWebVisitsMo...  0.043933  0.034182   \n",
       "4  (Marital_Status_Married, Teenhome, NumCatalogP...  0.025172  0.019584   \n",
       "5  (Marital_Status_Married, Teenhome, MntWines, N...  0.023683  0.018426   \n",
       "6  (Marital_Status_Married, Teenhome, MntWines, M...   0.03538  0.027527   \n",
       "7  (Marital_Status_Married, Teenhome, MntWines, M...  0.025858  0.020118   \n",
       "\n",
       "    std_err  \n",
       "1  0.014795  \n",
       "2  0.017547  \n",
       "3  0.017091  \n",
       "4  0.009792  \n",
       "5  0.009213  \n",
       "6  0.013763  \n",
       "7  0.010059  "
      ]
     },
     "execution_count": 9,
     "metadata": {},
     "output_type": "execute_result"
    }
   ],
   "source": [
    "pd.DataFrame.from_dict(sfs.get_metric_dict()).T"
   ]
  },
  {
   "cell_type": "markdown",
   "id": "16d5c5c5-2c80-453a-abd3-acf55be96e43",
   "metadata": {},
   "source": [
    "### Exhaustive feature selection"
   ]
  },
  {
   "cell_type": "markdown",
   "id": "8d3cbdab-45a6-4d24-9703-cce2c10f39af",
   "metadata": {},
   "source": [
    "This is very expensive to run in terms of cpu usage. We can skip it."
   ]
  },
  {
   "cell_type": "code",
   "execution_count": 10,
   "id": "2c5dc423-574a-448a-99bc-75c45b90d590",
   "metadata": {},
   "outputs": [],
   "source": [
    "# %%time\n",
    "# efs = EFS(RandomForestClassifier(n_estimators=100, random_state=0, n_jobs=-1),\n",
    "#          min_features= 4,\n",
    "#           max_features= 5,\n",
    "#           scoring='recall',\n",
    "#           cv = None,\n",
    "#           n_jobs=-1\n",
    "#          ).fit(X, y)"
   ]
  },
  {
   "cell_type": "code",
   "execution_count": 11,
   "id": "594d4170-c973-4639-bb25-3f8313dc8d65",
   "metadata": {},
   "outputs": [],
   "source": [
    "# efs.best_feature_names_"
   ]
  },
  {
   "cell_type": "markdown",
   "id": "5a4f0084-89d1-4d79-b998-50c97068d6bb",
   "metadata": {},
   "source": [
    "### RFE"
   ]
  },
  {
   "cell_type": "code",
   "execution_count": 12,
   "id": "2fd09da8-d82e-4d50-a91d-05eba33e2cfc",
   "metadata": {},
   "outputs": [
    {
     "data": {
      "text/html": [
       "<style>#sk-container-id-1 {color: black;background-color: white;}#sk-container-id-1 pre{padding: 0;}#sk-container-id-1 div.sk-toggleable {background-color: white;}#sk-container-id-1 label.sk-toggleable__label {cursor: pointer;display: block;width: 100%;margin-bottom: 0;padding: 0.3em;box-sizing: border-box;text-align: center;}#sk-container-id-1 label.sk-toggleable__label-arrow:before {content: \"▸\";float: left;margin-right: 0.25em;color: #696969;}#sk-container-id-1 label.sk-toggleable__label-arrow:hover:before {color: black;}#sk-container-id-1 div.sk-estimator:hover label.sk-toggleable__label-arrow:before {color: black;}#sk-container-id-1 div.sk-toggleable__content {max-height: 0;max-width: 0;overflow: hidden;text-align: left;background-color: #f0f8ff;}#sk-container-id-1 div.sk-toggleable__content pre {margin: 0.2em;color: black;border-radius: 0.25em;background-color: #f0f8ff;}#sk-container-id-1 input.sk-toggleable__control:checked~div.sk-toggleable__content {max-height: 200px;max-width: 100%;overflow: auto;}#sk-container-id-1 input.sk-toggleable__control:checked~label.sk-toggleable__label-arrow:before {content: \"▾\";}#sk-container-id-1 div.sk-estimator input.sk-toggleable__control:checked~label.sk-toggleable__label {background-color: #d4ebff;}#sk-container-id-1 div.sk-label input.sk-toggleable__control:checked~label.sk-toggleable__label {background-color: #d4ebff;}#sk-container-id-1 input.sk-hidden--visually {border: 0;clip: rect(1px 1px 1px 1px);clip: rect(1px, 1px, 1px, 1px);height: 1px;margin: -1px;overflow: hidden;padding: 0;position: absolute;width: 1px;}#sk-container-id-1 div.sk-estimator {font-family: monospace;background-color: #f0f8ff;border: 1px dotted black;border-radius: 0.25em;box-sizing: border-box;margin-bottom: 0.5em;}#sk-container-id-1 div.sk-estimator:hover {background-color: #d4ebff;}#sk-container-id-1 div.sk-parallel-item::after {content: \"\";width: 100%;border-bottom: 1px solid gray;flex-grow: 1;}#sk-container-id-1 div.sk-label:hover label.sk-toggleable__label {background-color: #d4ebff;}#sk-container-id-1 div.sk-serial::before {content: \"\";position: absolute;border-left: 1px solid gray;box-sizing: border-box;top: 0;bottom: 0;left: 50%;z-index: 0;}#sk-container-id-1 div.sk-serial {display: flex;flex-direction: column;align-items: center;background-color: white;padding-right: 0.2em;padding-left: 0.2em;position: relative;}#sk-container-id-1 div.sk-item {position: relative;z-index: 1;}#sk-container-id-1 div.sk-parallel {display: flex;align-items: stretch;justify-content: center;background-color: white;position: relative;}#sk-container-id-1 div.sk-item::before, #sk-container-id-1 div.sk-parallel-item::before {content: \"\";position: absolute;border-left: 1px solid gray;box-sizing: border-box;top: 0;bottom: 0;left: 50%;z-index: -1;}#sk-container-id-1 div.sk-parallel-item {display: flex;flex-direction: column;z-index: 1;position: relative;background-color: white;}#sk-container-id-1 div.sk-parallel-item:first-child::after {align-self: flex-end;width: 50%;}#sk-container-id-1 div.sk-parallel-item:last-child::after {align-self: flex-start;width: 50%;}#sk-container-id-1 div.sk-parallel-item:only-child::after {width: 0;}#sk-container-id-1 div.sk-dashed-wrapped {border: 1px dashed gray;margin: 0 0.4em 0.5em 0.4em;box-sizing: border-box;padding-bottom: 0.4em;background-color: white;}#sk-container-id-1 div.sk-label label {font-family: monospace;font-weight: bold;display: inline-block;line-height: 1.2em;}#sk-container-id-1 div.sk-label-container {text-align: center;}#sk-container-id-1 div.sk-container {/* jupyter's `normalize.less` sets `[hidden] { display: none; }` but bootstrap.min.css set `[hidden] { display: none !important; }` so we also need the `!important` here to be able to override the default hidden behavior on the sphinx rendered scikit-learn.org. See: https://github.com/scikit-learn/scikit-learn/issues/21755 */display: inline-block !important;position: relative;}#sk-container-id-1 div.sk-text-repr-fallback {display: none;}</style><div id=\"sk-container-id-1\" class=\"sk-top-container\"><div class=\"sk-text-repr-fallback\"><pre>RFE(estimator=RandomForestClassifier(), n_features_to_select=10)</pre><b>In a Jupyter environment, please rerun this cell to show the HTML representation or trust the notebook. <br />On GitHub, the HTML representation is unable to render, please try loading this page with nbviewer.org.</b></div><div class=\"sk-container\" hidden><div class=\"sk-item sk-dashed-wrapped\"><div class=\"sk-label-container\"><div class=\"sk-label sk-toggleable\"><input class=\"sk-toggleable__control sk-hidden--visually\" id=\"sk-estimator-id-1\" type=\"checkbox\" ><label for=\"sk-estimator-id-1\" class=\"sk-toggleable__label sk-toggleable__label-arrow\">RFE</label><div class=\"sk-toggleable__content\"><pre>RFE(estimator=RandomForestClassifier(), n_features_to_select=10)</pre></div></div></div><div class=\"sk-parallel\"><div class=\"sk-parallel-item\"><div class=\"sk-item\"><div class=\"sk-label-container\"><div class=\"sk-label sk-toggleable\"><input class=\"sk-toggleable__control sk-hidden--visually\" id=\"sk-estimator-id-2\" type=\"checkbox\" ><label for=\"sk-estimator-id-2\" class=\"sk-toggleable__label sk-toggleable__label-arrow\">estimator: RandomForestClassifier</label><div class=\"sk-toggleable__content\"><pre>RandomForestClassifier()</pre></div></div></div><div class=\"sk-serial\"><div class=\"sk-item\"><div class=\"sk-estimator sk-toggleable\"><input class=\"sk-toggleable__control sk-hidden--visually\" id=\"sk-estimator-id-3\" type=\"checkbox\" ><label for=\"sk-estimator-id-3\" class=\"sk-toggleable__label sk-toggleable__label-arrow\">RandomForestClassifier</label><div class=\"sk-toggleable__content\"><pre>RandomForestClassifier()</pre></div></div></div></div></div></div></div></div></div></div>"
      ],
      "text/plain": [
       "RFE(estimator=RandomForestClassifier(), n_features_to_select=10)"
      ]
     },
     "execution_count": 12,
     "metadata": {},
     "output_type": "execute_result"
    }
   ],
   "source": [
    "# Iniciar el transformador\n",
    "rfe = RFE(estimator=RandomForestClassifier(), n_features_to_select=10)\n",
    "\n",
    "# Fit\n",
    "rfe.fit(X, y)"
   ]
  },
  {
   "cell_type": "code",
   "execution_count": 13,
   "id": "372c4c0f-6a9e-4919-a872-1d41abd9d2a5",
   "metadata": {},
   "outputs": [
    {
     "name": "stdout",
     "output_type": "stream",
     "text": [
      "1 Income\n",
      "1 Recency\n",
      "1 MntWines\n",
      "1 MntMeatProducts\n",
      "1 MntFishProducts\n",
      "1 MntSweetProducts\n",
      "1 MntGoldProds\n",
      "1 NumStorePurchases\n",
      "1 NumWebVisitsMonth\n",
      "1 Edad\n",
      "2 NumCatalogPurchases\n",
      "3 MntFruits\n",
      "4 Dt_Customer_m\n",
      "5 NumWebPurchases\n",
      "6 NumDealsPurchases\n",
      "7 tiempo_participacion\n",
      "8 Marital_Status_Married\n",
      "9 Dt_Customer_year\n",
      "10 Teenhome\n",
      "11 Dt_Customer_q\n",
      "12 Marital_Status_Single\n",
      "13 Education_PhD\n",
      "14 Education_Graduation\n",
      "15 Marital_Status_Divorced\n",
      "16 Kidhome\n",
      "17 Education_Master\n",
      "18 Education_Basic\n",
      "19 Complain\n"
     ]
    }
   ],
   "source": [
    "from operator import itemgetter\n",
    "features = X.columns.to_list()\n",
    "for x, y in (sorted(zip(rfe.ranking_ , features), key=itemgetter(0))):\n",
    "    print(x, y)\n"
   ]
  },
  {
   "cell_type": "code",
   "execution_count": null,
   "id": "69468a6b-7f2d-462c-a75e-15058248b3df",
   "metadata": {},
   "outputs": [],
   "source": []
  }
 ],
 "metadata": {
  "kernelspec": {
   "display_name": "Python 3 (ipykernel)",
   "language": "python",
   "name": "python3"
  },
  "language_info": {
   "codemirror_mode": {
    "name": "ipython",
    "version": 3
   },
   "file_extension": ".py",
   "mimetype": "text/x-python",
   "name": "python",
   "nbconvert_exporter": "python",
   "pygments_lexer": "ipython3",
   "version": "3.9.6"
  }
 },
 "nbformat": 4,
 "nbformat_minor": 5
}
