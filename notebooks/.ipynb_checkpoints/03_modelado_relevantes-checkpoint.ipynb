{
 "cells": [
  {
   "cell_type": "code",
   "execution_count": 2,
   "id": "8c54d7a3-2e1b-424f-91a6-fbbc900ac82b",
   "metadata": {},
   "outputs": [],
   "source": [
    "import pandas as pd\n",
    "import numpy as np\n",
    "import matplotlib.pyplot as plt\n",
    "import seaborn as sns\n",
    "from sklearn.model_selection import train_test_split, KFold, ShuffleSplit, RepeatedStratifiedKFold, LeaveOneOut, StratifiedKFold, cross_val_score, cross_val_predict, GridSearchCV, RandomizedSearchCV\n",
    "from sklearn.metrics import accuracy_score,classification_report, f1_score, roc_auc_score\n",
    "import sklearn.metrics as metrics\n",
    "from sklearn.ensemble import AdaBoostClassifier\n",
    "from sklearn.preprocessing import MinMaxScaler, StandardScaler, Normalizer, Binarizer, RobustScaler, OneHotEncoder, LabelEncoder, PowerTransformer, QuantileTransformer\n",
    "from sklearn.pipeline import Pipeline, make_pipeline\n",
    "import warnings\n",
    "warnings.filterwarnings(\"ignore\")\n",
    "from statistics import mean\n",
    "from sklearn.metrics import f1_score, accuracy_score, recall_score, precision_score, make_scorer\n",
    "from sklearn.metrics import confusion_matrix, ConfusionMatrixDisplay\n",
    "import plotly.express as px\n",
    "import pickle\n",
    "%run auxiliar.py"
   ]
  },
  {
   "cell_type": "markdown",
   "id": "0931f720-38d5-47d2-840c-0955556f12e1",
   "metadata": {
    "tags": []
   },
   "source": [
    "# Definir la metrica a utilizar \n"
   ]
  },
  {
   "cell_type": "code",
   "execution_count": 3,
   "id": "370120e7-160c-495d-8d66-e9eef91a47d5",
   "metadata": {},
   "outputs": [],
   "source": [
    "scorer = metrics.make_scorer(metrics.f1_score)## Modelado"
   ]
  },
  {
   "cell_type": "code",
   "execution_count": 4,
   "id": "b70f2236-4f0c-49f9-ac33-82f48e8b7644",
   "metadata": {},
   "outputs": [],
   "source": [
    "# Lectura de los datos\n",
    "data = pd.read_csv(\"../data/superstore_clean.csv\")"
   ]
  },
  {
   "cell_type": "code",
   "execution_count": 5,
   "id": "0869522b-be1c-41d5-97d2-ee4793c1f5b8",
   "metadata": {},
   "outputs": [],
   "source": [
    "df_limpio = data.copy()"
   ]
  },
  {
   "cell_type": "code",
   "execution_count": 6,
   "id": "7a9d0d54-dc1b-4b6d-bf2c-a462f6e4570e",
   "metadata": {},
   "outputs": [
    {
     "data": {
      "text/plain": [
       "['Education_Graduation',\n",
       " 'Education_PhD',\n",
       " 'Education_Master',\n",
       " 'Education_Basic',\n",
       " 'Marital_Status_Divorced',\n",
       " 'Marital_Status_Single',\n",
       " 'Marital_Status_Married',\n",
       " 'Income',\n",
       " 'Kidhome',\n",
       " 'Teenhome',\n",
       " 'Recency',\n",
       " 'MntWines',\n",
       " 'MntFruits',\n",
       " 'MntMeatProducts',\n",
       " 'MntFishProducts',\n",
       " 'MntSweetProducts',\n",
       " 'MntGoldProds',\n",
       " 'NumDealsPurchases',\n",
       " 'NumWebPurchases',\n",
       " 'NumCatalogPurchases',\n",
       " 'NumStorePurchases',\n",
       " 'NumWebVisitsMonth',\n",
       " 'Response',\n",
       " 'Complain',\n",
       " 'Edad',\n",
       " 'Dt_Customer_year',\n",
       " 'Dt_Customer_q',\n",
       " 'Dt_Customer_m',\n",
       " 'tiempo_participacion']"
      ]
     },
     "execution_count": 6,
     "metadata": {},
     "output_type": "execute_result"
    }
   ],
   "source": [
    "list(data.columns.values)"
   ]
  },
  {
   "cell_type": "code",
   "execution_count": 10,
   "id": "b25375b2-831e-458d-a46d-4e0d2715953d",
   "metadata": {},
   "outputs": [],
   "source": [
    "seed = 12345"
   ]
  },
  {
   "cell_type": "code",
   "execution_count": 7,
   "id": "89049390-4e02-48e1-91e4-0dc15cc3252b",
   "metadata": {},
   "outputs": [],
   "source": [
    "# # Solo con columnas seleccionadas en proceso de seleccion de variables\n",
    "predictors = df_limpio[['Recency', 'NumStorePurchases', 'NumCatalogPurchases', 'MntWines', 'MntMeatProducts',  'NumWebVisitsMonth','Teenhome', 'Income']]\n"
   ]
  },
  {
   "cell_type": "code",
   "execution_count": 8,
   "id": "5d9b37c7-51b1-4499-bfba-f6fdba47138a",
   "metadata": {},
   "outputs": [],
   "source": [
    "# X = predictors\n",
    "X = predictors\n",
    "y = df_limpio.Response"
   ]
  },
  {
   "cell_type": "code",
   "execution_count": 11,
   "id": "cd536da6-cc2a-42a0-95de-9259263a268a",
   "metadata": {},
   "outputs": [
    {
     "data": {
      "text/plain": [
       "((1565, 8), (671, 8), (1565,), (671,))"
      ]
     },
     "execution_count": 11,
     "metadata": {},
     "output_type": "execute_result"
    }
   ],
   "source": [
    "# Train test split\n",
    "X_train, X_test, y_train, y_test = train_test_split(X, y, test_size = 0.30, random_state = seed, stratify=y)\n",
    "X_train.shape, X_test.shape, y_train.shape, y_test.shape"
   ]
  },
  {
   "cell_type": "code",
   "execution_count": 15,
   "id": "bc4710d5-d42e-4e4b-a837-eb54d00363d0",
   "metadata": {},
   "outputs": [
    {
     "name": "stdout",
     "output_type": "stream",
     "text": [
      "Mejor estimador: Pipeline(steps=[('Quantile', QuantileTransformer()),\n",
      "                ('Modelo',\n",
      "                 <catboost.core.CatBoostClassifier object at 0x7ff520a463d0>)])\n",
      "Mejores parametros: {'Modelo__learning_rate': 0.1, 'Modelo__max_depth': 4, 'Modelo__n_estimators': 300}\n",
      "Mejor score: 0.4795711685475063\n",
      "CPU times: user 28.2 s, sys: 23.7 s, total: 52 s\n",
      "Wall time: 20.8 s\n"
     ]
    }
   ],
   "source": [
    "%%time\n",
    "# Definir modelo\n",
    "cbc = CatBoostClassifier(logging_level = 'Silent', random_state = seed)\n",
    "\n",
    "# Transformador\n",
    "scaler = QuantileTransformer()\n",
    "\n",
    "# Pipeline\n",
    "pipeline = Pipeline([('Quantile', scaler),\n",
    "                    ('Modelo', cbc)])\n",
    "\n",
    "# Crear la grilla\n",
    "grid = {'Modelo__max_depth': [3,4,5],'Modelo__n_estimators':[100, 200, 300],'Modelo__learning_rate' : [0.01, 0.05, 0.1]}\n",
    "\n",
    "#cv\n",
    "cv = StratifiedKFold(n_splits = 5, shuffle = True, random_state = seed)\n",
    "\n",
    "# Llama a grid search\n",
    "gscv = GridSearchCV (estimator = pipeline, param_grid = grid, scoring = scorer, cv = cv, verbose = False)\n",
    "\n",
    "#fit the model\n",
    "gscv.fit(X_train,y_train)\n",
    "\n",
    "# Resultados\n",
    "print(f'Mejor estimador: {gscv.best_estimator_}')\n",
    "print(f'Mejores parametros: {gscv.best_params_}')\n",
    "print(f'Mejor score: {gscv.best_score_}')\n"
   ]
  },
  {
   "cell_type": "code",
   "execution_count": 16,
   "id": "463b9fe8-6a35-4228-a782-8a8aacbf98af",
   "metadata": {},
   "outputs": [
    {
     "data": {
      "text/plain": [
       "<catboost.core.CatBoostClassifier at 0x7ff503818b20>"
      ]
     },
     "execution_count": 16,
     "metadata": {},
     "output_type": "execute_result"
    }
   ],
   "source": [
    "catboost_t = CatBoostClassifier(\n",
    "    max_depth = 4,\n",
    "    n_estimators = 300,\n",
    "    learning_rate = 0.1,\n",
    "    scale_pos_weight = 3,\n",
    "    random_state = seed,\n",
    "    logging_level = 'Silent' #para que no salga print de iteraciones\n",
    "\n",
    ")\n",
    "\n",
    "catboost_t.fit(X_train, y_train,eval_set = (X_test, y_test), early_stopping_rounds = 30,use_best_model = True)"
   ]
  },
  {
   "cell_type": "code",
   "execution_count": 17,
   "id": "fa458dea-8e0e-456d-b196-fa92822f9638",
   "metadata": {},
   "outputs": [
    {
     "data": {
      "text/html": [
       "<div>\n",
       "<style scoped>\n",
       "    .dataframe tbody tr th:only-of-type {\n",
       "        vertical-align: middle;\n",
       "    }\n",
       "\n",
       "    .dataframe tbody tr th {\n",
       "        vertical-align: top;\n",
       "    }\n",
       "\n",
       "    .dataframe thead th {\n",
       "        text-align: right;\n",
       "    }\n",
       "</style>\n",
       "<table border=\"1\" class=\"dataframe\">\n",
       "  <thead>\n",
       "    <tr style=\"text-align: right;\">\n",
       "      <th></th>\n",
       "      <th>Accuracy</th>\n",
       "      <th>Recall</th>\n",
       "      <th>Roc-Auc</th>\n",
       "      <th>Precision</th>\n",
       "      <th>F1</th>\n",
       "    </tr>\n",
       "  </thead>\n",
       "  <tbody>\n",
       "    <tr>\n",
       "      <th>cat train scale</th>\n",
       "      <td>0.9061</td>\n",
       "      <td>0.7607</td>\n",
       "      <td>0.8462</td>\n",
       "      <td>0.6617</td>\n",
       "      <td>0.7078</td>\n",
       "    </tr>\n",
       "  </tbody>\n",
       "</table>\n",
       "</div>"
      ],
      "text/plain": [
       "                 Accuracy  Recall  Roc-Auc  Precision      F1\n",
       "cat train scale    0.9061  0.7607   0.8462     0.6617  0.7078"
      ]
     },
     "execution_count": 17,
     "metadata": {},
     "output_type": "execute_result"
    }
   ],
   "source": [
    "# Resultados en train\n",
    "res_cat_3 = reportes(catboost_t, X_train, y_train, nombre = \"cat train scale\")\n",
    "res_cat_3"
   ]
  },
  {
   "cell_type": "code",
   "execution_count": 18,
   "id": "87e64475-6072-4cb6-8c56-8b6681d5eb2a",
   "metadata": {},
   "outputs": [
    {
     "data": {
      "text/html": [
       "<div>\n",
       "<style scoped>\n",
       "    .dataframe tbody tr th:only-of-type {\n",
       "        vertical-align: middle;\n",
       "    }\n",
       "\n",
       "    .dataframe tbody tr th {\n",
       "        vertical-align: top;\n",
       "    }\n",
       "\n",
       "    .dataframe thead th {\n",
       "        text-align: right;\n",
       "    }\n",
       "</style>\n",
       "<table border=\"1\" class=\"dataframe\">\n",
       "  <thead>\n",
       "    <tr style=\"text-align: right;\">\n",
       "      <th></th>\n",
       "      <th>Accuracy</th>\n",
       "      <th>Recall</th>\n",
       "      <th>Roc-Auc</th>\n",
       "      <th>Precision</th>\n",
       "      <th>F1</th>\n",
       "    </tr>\n",
       "  </thead>\n",
       "  <tbody>\n",
       "    <tr>\n",
       "      <th>cat train scale</th>\n",
       "      <td>0.8614</td>\n",
       "      <td>0.53</td>\n",
       "      <td>0.7247</td>\n",
       "      <td>0.5354</td>\n",
       "      <td>0.5327</td>\n",
       "    </tr>\n",
       "  </tbody>\n",
       "</table>\n",
       "</div>"
      ],
      "text/plain": [
       "                 Accuracy  Recall  Roc-Auc  Precision      F1\n",
       "cat train scale    0.8614    0.53   0.7247     0.5354  0.5327"
      ]
     },
     "execution_count": 18,
     "metadata": {},
     "output_type": "execute_result"
    }
   ],
   "source": [
    "# Resultados en train\n",
    "res_cat_3_t = reportes(catboost_t, X_test, y_test, nombre = \"cat train scale\")\n",
    "res_cat_3_t"
   ]
  },
  {
   "cell_type": "code",
   "execution_count": 19,
   "id": "af861cd6-50c0-40d8-b0f5-b2c48137f3d6",
   "metadata": {},
   "outputs": [],
   "source": [
    "# Guarda el modelo\n",
    "pickle.dump(catboost_t, open('../web/model_8.pkl','wb'))"
   ]
  }
 ],
 "metadata": {
  "kernelspec": {
   "display_name": "Python 3 (ipykernel)",
   "language": "python",
   "name": "python3"
  },
  "language_info": {
   "codemirror_mode": {
    "name": "ipython",
    "version": 3
   },
   "file_extension": ".py",
   "mimetype": "text/x-python",
   "name": "python",
   "nbconvert_exporter": "python",
   "pygments_lexer": "ipython3",
   "version": "3.9.7"
  }
 },
 "nbformat": 4,
 "nbformat_minor": 5
}
