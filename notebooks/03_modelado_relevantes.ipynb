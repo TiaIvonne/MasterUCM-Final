{
 "cells": [
  {
   "cell_type": "code",
   "execution_count": 1,
   "id": "8c54d7a3-2e1b-424f-91a6-fbbc900ac82b",
   "metadata": {},
   "outputs": [],
   "source": [
    "import pandas as pd\n",
    "import numpy as np\n",
    "import matplotlib.pyplot as plt\n",
    "import seaborn as sns\n",
    "from sklearn.ensemble import RandomForestClassifier\n",
    "from sklearn.model_selection import train_test_split, KFold, ShuffleSplit, LeaveOneOut, StratifiedKFold, cross_val_score, cross_val_predict, GridSearchCV, RandomizedSearchCV\n",
    "from sklearn.metrics import accuracy_score,classification_report, f1_score, roc_auc_score\n",
    "from sklearn.ensemble import ExtraTreesClassifier\n",
    "from sklearn.discriminant_analysis import LinearDiscriminantAnalysis\n",
    "from sklearn.ensemble import GradientBoostingClassifier\n",
    "from sklearn.linear_model import LogisticRegression\n",
    "import sklearn.metrics as metrics\n",
    "from sklearn.ensemble import AdaBoostClassifier\n",
    "from sklearn.preprocessing import MinMaxScaler, StandardScaler, Normalizer, Binarizer, RobustScaler, OneHotEncoder, LabelEncoder, PowerTransformer, QuantileTransformer\n",
    "from sklearn.pipeline import Pipeline, make_pipeline\n",
    "from sklearn.model_selection import RepeatedStratifiedKFold\n",
    "from sklearn.model_selection import cross_validate\n",
    "import warnings\n",
    "warnings.filterwarnings(\"ignore\")\n",
    "from statistics import mean\n",
    "from sklearn.metrics import f1_score, accuracy_score, recall_score, precision_score\n",
    "from sklearn.metrics import make_scorer\n",
    "from lightgbm import LGBMClassifier\n",
    "from catboost import CatBoostClassifier\n",
    "from sklearn.metrics import confusion_matrix, ConfusionMatrixDisplay\n",
    "import lightgbm as lgb\n",
    "from sklearn.tree import DecisionTreeClassifier\n",
    "import plotly.express as px\n",
    "from sklearn.model_selection import learning_curve\n",
    "%run auxiliar.py"
   ]
  },
  {
   "cell_type": "markdown",
   "id": "0931f720-38d5-47d2-840c-0955556f12e1",
   "metadata": {
    "tags": []
   },
   "source": [
    "# Definir la metrica a utilizar \n"
   ]
  },
  {
   "cell_type": "code",
   "execution_count": 11,
   "id": "370120e7-160c-495d-8d66-e9eef91a47d5",
   "metadata": {},
   "outputs": [],
   "source": [
    "scorer = metrics.make_scorer(metrics.f1_score)## Modelado"
   ]
  },
  {
   "cell_type": "code",
   "execution_count": 12,
   "id": "b70f2236-4f0c-49f9-ac33-82f48e8b7644",
   "metadata": {},
   "outputs": [],
   "source": [
    "# Lectura de los datos\n",
    "data = pd.read_csv(\"../data/superstore_clean.csv\")"
   ]
  },
  {
   "cell_type": "code",
   "execution_count": 13,
   "id": "0869522b-be1c-41d5-97d2-ee4793c1f5b8",
   "metadata": {},
   "outputs": [],
   "source": [
    "df_limpio = data.copy()"
   ]
  },
  {
   "cell_type": "code",
   "execution_count": 14,
   "id": "7a9d0d54-dc1b-4b6d-bf2c-a462f6e4570e",
   "metadata": {},
   "outputs": [
    {
     "data": {
      "text/plain": [
       "['Education_Graduation',\n",
       " 'Education_PhD',\n",
       " 'Education_Master',\n",
       " 'Education_Basic',\n",
       " 'Marital_Status_Divorced',\n",
       " 'Marital_Status_Single',\n",
       " 'Marital_Status_Married',\n",
       " 'Income',\n",
       " 'Kidhome',\n",
       " 'Teenhome',\n",
       " 'Recency',\n",
       " 'MntWines',\n",
       " 'MntFruits',\n",
       " 'MntMeatProducts',\n",
       " 'MntFishProducts',\n",
       " 'MntSweetProducts',\n",
       " 'MntGoldProds',\n",
       " 'NumDealsPurchases',\n",
       " 'NumWebPurchases',\n",
       " 'NumCatalogPurchases',\n",
       " 'NumStorePurchases',\n",
       " 'NumWebVisitsMonth',\n",
       " 'Response',\n",
       " 'Complain',\n",
       " 'Edad',\n",
       " 'Dt_Customer_year',\n",
       " 'tiempo_participacion']"
      ]
     },
     "execution_count": 14,
     "metadata": {},
     "output_type": "execute_result"
    }
   ],
   "source": [
    "list(data.columns.values)"
   ]
  },
  {
   "cell_type": "code",
   "execution_count": 53,
   "id": "89049390-4e02-48e1-91e4-0dc15cc3252b",
   "metadata": {},
   "outputs": [],
   "source": [
    "# # Solo con columnas seleccionadas en proceso de seleccion de variables\n",
    "predictors = df_limpio[[\n",
    "    \"Recency\",\"NumCatalogPurchases\", \"NumStorePurchases\", \"MntMeatProducts\", \"MntWines\",\"NumWebVisitsMonth\", \"MntGoldProds\", \"Income\", \"tiempo_participacion\"\n",
    "    \n",
    "]]"
   ]
  },
  {
   "cell_type": "code",
   "execution_count": 54,
   "id": "5d9b37c7-51b1-4499-bfba-f6fdba47138a",
   "metadata": {},
   "outputs": [],
   "source": [
    "# X = predictors\n",
    "X = predictors\n",
    "y = df_limpio.Response"
   ]
  },
  {
   "cell_type": "code",
   "execution_count": 55,
   "id": "cd536da6-cc2a-42a0-95de-9259263a268a",
   "metadata": {},
   "outputs": [
    {
     "data": {
      "text/plain": [
       "((1565, 9), (671, 9), (1565,), (671,))"
      ]
     },
     "execution_count": 55,
     "metadata": {},
     "output_type": "execute_result"
    }
   ],
   "source": [
    "# Train test split\n",
    "X_train, X_test, y_train, y_test = train_test_split(X, y, test_size = 0.30, random_state = 12345, stratify=y)\n",
    "X_train.shape, X_test.shape, y_train.shape, y_test.shape"
   ]
  },
  {
   "cell_type": "code",
   "execution_count": 56,
   "id": "bc4710d5-d42e-4e4b-a837-eb54d00363d0",
   "metadata": {},
   "outputs": [
    {
     "name": "stdout",
     "output_type": "stream",
     "text": [
      "Mejor estimador: <catboost.core.CatBoostClassifier object at 0x7f9872a5c5b0>\n",
      "Mejores parametros: {'learning_rate': 0.1, 'max_depth': 4, 'n_estimators': 300}\n",
      "Mejor score: 0.45301186240244845\n",
      "CPU times: user 30.2 s, sys: 23.8 s, total: 54 s\n",
      "Wall time: 20.8 s\n"
     ]
    }
   ],
   "source": [
    "%%time\n",
    "# Definir modelo\n",
    "cbc = CatBoostClassifier(logging_level='Silent', random_state=12345)\n",
    "\n",
    "# Crear la grilla\n",
    "grid = {'max_depth': [3,4,5],'n_estimators':[100, 200, 300],'learning_rate' : [0.01, 0.05, 0.1]}\n",
    "\n",
    "#cv\n",
    "cv = StratifiedKFold(n_splits=5, shuffle= True, random_state=12345)\n",
    "\n",
    "# Llama a grid search\n",
    "gscv = GridSearchCV (estimator = cbc, param_grid = grid, scoring = scorer, cv = cv, verbose=False)\n",
    "\n",
    "#fit the model\n",
    "gscv.fit(X_train,y_train)\n",
    "\n",
    "# Resultados\n",
    "print(f'Mejor estimador: {gscv.best_estimator_}')\n",
    "print(f'Mejores parametros: {gscv.best_params_}')\n",
    "print(f'Mejor score: {gscv.best_score_}')\n"
   ]
  },
  {
   "cell_type": "code",
   "execution_count": 64,
   "id": "881e9d44-3967-4cfa-a9fa-6c2065de873f",
   "metadata": {},
   "outputs": [
    {
     "data": {
      "text/plain": [
       "<catboost.core.CatBoostClassifier at 0x7f98a5587bb0>"
      ]
     },
     "execution_count": 64,
     "metadata": {},
     "output_type": "execute_result"
    }
   ],
   "source": [
    "catboost_9 = CatBoostClassifier(\n",
    "    max_depth = 4,\n",
    "    n_estimators = 300,\n",
    "    learning_rate = 0.1,\n",
    "    logging_level = 'Silent' #para que no salga print de iteraciones\n",
    "\n",
    ")\n",
    "\n",
    "catboost_9.fit(X_train, y_train,eval_set=(X_test, y_test),early_stopping_rounds = 30,use_best_model = True)"
   ]
  },
  {
   "cell_type": "code",
   "execution_count": 65,
   "id": "57e75a03-1d0b-42ac-8513-ea6205ff1d7f",
   "metadata": {},
   "outputs": [
    {
     "data": {
      "text/html": [
       "<div>\n",
       "<style scoped>\n",
       "    .dataframe tbody tr th:only-of-type {\n",
       "        vertical-align: middle;\n",
       "    }\n",
       "\n",
       "    .dataframe tbody tr th {\n",
       "        vertical-align: top;\n",
       "    }\n",
       "\n",
       "    .dataframe thead th {\n",
       "        text-align: right;\n",
       "    }\n",
       "</style>\n",
       "<table border=\"1\" class=\"dataframe\">\n",
       "  <thead>\n",
       "    <tr style=\"text-align: right;\">\n",
       "      <th></th>\n",
       "      <th>Accuracy</th>\n",
       "      <th>Recall</th>\n",
       "      <th>Roc-Auc</th>\n",
       "      <th>Precision</th>\n",
       "      <th>F1</th>\n",
       "    </tr>\n",
       "  </thead>\n",
       "  <tbody>\n",
       "    <tr>\n",
       "      <th>cat train</th>\n",
       "      <td>0.9393</td>\n",
       "      <td>0.6111</td>\n",
       "      <td>0.8041</td>\n",
       "      <td>0.9728</td>\n",
       "      <td>0.7507</td>\n",
       "    </tr>\n",
       "  </tbody>\n",
       "</table>\n",
       "</div>"
      ],
      "text/plain": [
       "           Accuracy  Recall  Roc-Auc  Precision      F1\n",
       "cat train    0.9393  0.6111   0.8041     0.9728  0.7507"
      ]
     },
     "execution_count": 65,
     "metadata": {},
     "output_type": "execute_result"
    }
   ],
   "source": [
    "# Resultados en train\n",
    "res_cat = reportes(catboost_9, X_train, y_train, nombre = \"cat train\")\n",
    "res_cat"
   ]
  },
  {
   "cell_type": "code",
   "execution_count": 66,
   "id": "01bb48fb-cd7d-427f-a3dc-1ce126679844",
   "metadata": {},
   "outputs": [
    {
     "data": {
      "text/html": [
       "<div>\n",
       "<style scoped>\n",
       "    .dataframe tbody tr th:only-of-type {\n",
       "        vertical-align: middle;\n",
       "    }\n",
       "\n",
       "    .dataframe tbody tr th {\n",
       "        vertical-align: top;\n",
       "    }\n",
       "\n",
       "    .dataframe thead th {\n",
       "        text-align: right;\n",
       "    }\n",
       "</style>\n",
       "<table border=\"1\" class=\"dataframe\">\n",
       "  <thead>\n",
       "    <tr style=\"text-align: right;\">\n",
       "      <th></th>\n",
       "      <th>Accuracy</th>\n",
       "      <th>Recall</th>\n",
       "      <th>Roc-Auc</th>\n",
       "      <th>Precision</th>\n",
       "      <th>F1</th>\n",
       "    </tr>\n",
       "  </thead>\n",
       "  <tbody>\n",
       "    <tr>\n",
       "      <th>cat test</th>\n",
       "      <td>0.8584</td>\n",
       "      <td>0.26</td>\n",
       "      <td>0.6116</td>\n",
       "      <td>0.5532</td>\n",
       "      <td>0.3537</td>\n",
       "    </tr>\n",
       "  </tbody>\n",
       "</table>\n",
       "</div>"
      ],
      "text/plain": [
       "          Accuracy  Recall  Roc-Auc  Precision      F1\n",
       "cat test    0.8584    0.26   0.6116     0.5532  0.3537"
      ]
     },
     "execution_count": 66,
     "metadata": {},
     "output_type": "execute_result"
    }
   ],
   "source": [
    "res_cat_test = reportes(catboost_9, X_test, y_test, nombre = \"cat test\")\n",
    "res_cat_test"
   ]
  },
  {
   "cell_type": "code",
   "execution_count": 67,
   "id": "463b9fe8-6a35-4228-a782-8a8aacbf98af",
   "metadata": {},
   "outputs": [
    {
     "data": {
      "text/plain": [
       "<catboost.core.CatBoostClassifier at 0x7f9872a5cca0>"
      ]
     },
     "execution_count": 67,
     "metadata": {},
     "output_type": "execute_result"
    }
   ],
   "source": [
    "catboost_t = CatBoostClassifier(\n",
    "    max_depth = 4,\n",
    "    n_estimators = 300,\n",
    "    learning_rate = 0.1,\n",
    "    logging_level = 'Silent', #para que no salga print de iteraciones\n",
    "    scale_pos_weight=3,\n",
    "\n",
    ")\n",
    "\n",
    "catboost_t.fit(X_train, y_train,eval_set=(X_test, y_test),early_stopping_rounds = 30,use_best_model = True)"
   ]
  },
  {
   "cell_type": "code",
   "execution_count": 68,
   "id": "fa458dea-8e0e-456d-b196-fa92822f9638",
   "metadata": {},
   "outputs": [
    {
     "data": {
      "text/html": [
       "<div>\n",
       "<style scoped>\n",
       "    .dataframe tbody tr th:only-of-type {\n",
       "        vertical-align: middle;\n",
       "    }\n",
       "\n",
       "    .dataframe tbody tr th {\n",
       "        vertical-align: top;\n",
       "    }\n",
       "\n",
       "    .dataframe thead th {\n",
       "        text-align: right;\n",
       "    }\n",
       "</style>\n",
       "<table border=\"1\" class=\"dataframe\">\n",
       "  <thead>\n",
       "    <tr style=\"text-align: right;\">\n",
       "      <th></th>\n",
       "      <th>Accuracy</th>\n",
       "      <th>Recall</th>\n",
       "      <th>Roc-Auc</th>\n",
       "      <th>Precision</th>\n",
       "      <th>F1</th>\n",
       "    </tr>\n",
       "  </thead>\n",
       "  <tbody>\n",
       "    <tr>\n",
       "      <th>cat train</th>\n",
       "      <td>0.8888</td>\n",
       "      <td>0.7222</td>\n",
       "      <td>0.8202</td>\n",
       "      <td>0.6079</td>\n",
       "      <td>0.6602</td>\n",
       "    </tr>\n",
       "  </tbody>\n",
       "</table>\n",
       "</div>"
      ],
      "text/plain": [
       "           Accuracy  Recall  Roc-Auc  Precision      F1\n",
       "cat train    0.8888  0.7222   0.8202     0.6079  0.6602"
      ]
     },
     "execution_count": 68,
     "metadata": {},
     "output_type": "execute_result"
    }
   ],
   "source": [
    "# Resultados en train\n",
    "res_cat_3 = reportes(catboost_t, X_train, y_train, nombre = \"cat train scale\")\n",
    "res_cat_3"
   ]
  },
  {
   "cell_type": "code",
   "execution_count": 71,
   "id": "87e64475-6072-4cb6-8c56-8b6681d5eb2a",
   "metadata": {},
   "outputs": [
    {
     "data": {
      "text/html": [
       "<div>\n",
       "<style scoped>\n",
       "    .dataframe tbody tr th:only-of-type {\n",
       "        vertical-align: middle;\n",
       "    }\n",
       "\n",
       "    .dataframe tbody tr th {\n",
       "        vertical-align: top;\n",
       "    }\n",
       "\n",
       "    .dataframe thead th {\n",
       "        text-align: right;\n",
       "    }\n",
       "</style>\n",
       "<table border=\"1\" class=\"dataframe\">\n",
       "  <thead>\n",
       "    <tr style=\"text-align: right;\">\n",
       "      <th></th>\n",
       "      <th>Accuracy</th>\n",
       "      <th>Recall</th>\n",
       "      <th>Roc-Auc</th>\n",
       "      <th>Precision</th>\n",
       "      <th>F1</th>\n",
       "    </tr>\n",
       "  </thead>\n",
       "  <tbody>\n",
       "    <tr>\n",
       "      <th>cat train scale</th>\n",
       "      <td>0.8644</td>\n",
       "      <td>0.55</td>\n",
       "      <td>0.7347</td>\n",
       "      <td>0.5446</td>\n",
       "      <td>0.5473</td>\n",
       "    </tr>\n",
       "  </tbody>\n",
       "</table>\n",
       "</div>"
      ],
      "text/plain": [
       "                 Accuracy  Recall  Roc-Auc  Precision      F1\n",
       "cat train scale    0.8644    0.55   0.7347     0.5446  0.5473"
      ]
     },
     "execution_count": 71,
     "metadata": {},
     "output_type": "execute_result"
    }
   ],
   "source": [
    "# Resultados en train\n",
    "res_cat_3_t = reportes(catboost_t, X_test, y_test, nombre = \"cat train scale\")\n",
    "res_cat_3_t"
   ]
  },
  {
   "cell_type": "code",
   "execution_count": 72,
   "id": "af861cd6-50c0-40d8-b0f5-b2c48137f3d6",
   "metadata": {},
   "outputs": [],
   "source": [
    "import pickle\n",
    "# Guarda el modelo\n",
    "pickle.dump(catboost_t, open('../web/model_9.pkl','wb'))"
   ]
  },
  {
   "cell_type": "code",
   "execution_count": null,
   "id": "089a4d8f-812b-46d6-8e94-d19827d4dfe5",
   "metadata": {},
   "outputs": [],
   "source": []
  }
 ],
 "metadata": {
  "kernelspec": {
   "display_name": "Python 3 (ipykernel)",
   "language": "python",
   "name": "python3"
  },
  "language_info": {
   "codemirror_mode": {
    "name": "ipython",
    "version": 3
   },
   "file_extension": ".py",
   "mimetype": "text/x-python",
   "name": "python",
   "nbconvert_exporter": "python",
   "pygments_lexer": "ipython3",
   "version": "3.9.7"
  }
 },
 "nbformat": 4,
 "nbformat_minor": 5
}
