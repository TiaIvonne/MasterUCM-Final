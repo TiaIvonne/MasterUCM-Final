{
 "cells": [
  {
   "cell_type": "code",
   "execution_count": 30,
   "id": "7ddeb35e-7104-41e9-8cc3-ee1626d75d74",
   "metadata": {},
   "outputs": [],
   "source": [
    "import pandas as pd\n",
    "import numpy as np\n",
    "import matplotlib.pyplot as plt\n",
    "import seaborn as sns\n",
    "from sklearn.ensemble import RandomForestClassifier\n",
    "from sklearn.model_selection import train_test_split, KFold, ShuffleSplit, LeaveOneOut, StratifiedKFold, cross_val_score, cross_val_predict, GridSearchCV, RandomizedSearchCV\n",
    "from sklearn.metrics import accuracy_score,classification_report, f1_score, roc_auc_score\n",
    "from sklearn.ensemble import ExtraTreesClassifier\n",
    "from sklearn.discriminant_analysis import LinearDiscriminantAnalysis\n",
    "from sklearn.ensemble import GradientBoostingClassifier\n",
    "from sklearn.linear_model import LogisticRegression\n",
    "import sklearn.metrics as metrics\n",
    "from sklearn.ensemble import AdaBoostClassifier\n",
    "from sklearn.preprocessing import MinMaxScaler, StandardScaler, Normalizer, Binarizer, RobustScaler, OneHotEncoder, LabelEncoder, PowerTransformer, QuantileTransformer\n",
    "from sklearn.pipeline import Pipeline, make_pipeline\n",
    "from sklearn.model_selection import RepeatedStratifiedKFold\n",
    "from sklearn.model_selection import cross_validate\n",
    "import warnings\n",
    "warnings.filterwarnings(\"ignore\")\n",
    "from statistics import mean\n",
    "from sklearn.metrics import f1_score, accuracy_score, recall_score, precision_score\n",
    "from sklearn.metrics import make_scorer\n",
    "from lightgbm import LGBMClassifier\n",
    "from catboost import CatBoostClassifier\n",
    "from sklearn.metrics import confusion_matrix, ConfusionMatrixDisplay\n",
    "import lightgbm as lgb\n",
    "from sklearn.tree import DecisionTreeClassifier\n",
    "%run auxiliar.py"
   ]
  },
  {
   "cell_type": "markdown",
   "id": "4879cdac-00ee-43f7-8f17-8cc775894625",
   "metadata": {
    "tags": []
   },
   "source": [
    "## Modelado"
   ]
  },
  {
   "cell_type": "code",
   "execution_count": 3,
   "id": "1b26b4ab-2f35-49aa-b4aa-1e4ea6c8e1ac",
   "metadata": {},
   "outputs": [],
   "source": [
    "# Lectura de los datos\n",
    "data = pd.read_csv(\"./superstore_clean.csv\")"
   ]
  },
  {
   "cell_type": "code",
   "execution_count": 4,
   "id": "a553beb6-edfe-488e-8342-2ade7c1ef0ce",
   "metadata": {},
   "outputs": [],
   "source": [
    "df_limpio = data.copy()"
   ]
  },
  {
   "cell_type": "code",
   "execution_count": 5,
   "id": "368cb658-169e-40e5-93d9-2bc205dcb50c",
   "metadata": {},
   "outputs": [
    {
     "data": {
      "text/plain": [
       "['Education_Graduation',\n",
       " 'Education_PhD',\n",
       " 'Education_Master',\n",
       " 'Education_Basic',\n",
       " 'Marital_Status_Divorced',\n",
       " 'Marital_Status_Single',\n",
       " 'Marital_Status_Married',\n",
       " 'Income',\n",
       " 'Kidhome',\n",
       " 'Teenhome',\n",
       " 'Recency',\n",
       " 'MntWines',\n",
       " 'MntFruits',\n",
       " 'MntMeatProducts',\n",
       " 'MntFishProducts',\n",
       " 'MntSweetProducts',\n",
       " 'MntGoldProds',\n",
       " 'NumDealsPurchases',\n",
       " 'NumWebPurchases',\n",
       " 'NumCatalogPurchases',\n",
       " 'NumStorePurchases',\n",
       " 'NumWebVisitsMonth',\n",
       " 'Response',\n",
       " 'Complain',\n",
       " 'Edad',\n",
       " 'Dt_Customer_year',\n",
       " 'tiempo_participacion']"
      ]
     },
     "execution_count": 5,
     "metadata": {},
     "output_type": "execute_result"
    }
   ],
   "source": [
    "list(data.columns.values)"
   ]
  },
  {
   "cell_type": "code",
   "execution_count": 60,
   "id": "a5b8bf12-3d64-4c2d-a091-7cbf759ce898",
   "metadata": {},
   "outputs": [],
   "source": [
    "# # Solo con columnas seleccionadas en proceso de seleccion de variables\n",
    "predictors = df_limpio[[\n",
    "    'Marital_Status_Married',\n",
    "     'Teenhome',\n",
    "     'MntWines',\n",
    "     'MntMeatProducts',\n",
    "     'NumCatalogPurchases',\n",
    "     'NumStorePurchases',\n",
    "     'NumWebVisitsMonth']]"
   ]
  },
  {
   "cell_type": "code",
   "execution_count": 63,
   "id": "f8eb5444-f687-4336-bf85-e283f088b3fb",
   "metadata": {},
   "outputs": [],
   "source": [
    "X = predictors\n",
    "# X = df_limpio.drop(\"Response\", axis = 1)\n",
    "y = df_limpio.Response"
   ]
  },
  {
   "cell_type": "code",
   "execution_count": 64,
   "id": "5032ae7b-01a0-4999-9a93-55b6d637d713",
   "metadata": {},
   "outputs": [
    {
     "data": {
      "text/plain": [
       "((1677, 7), (559, 7), (1677,), (559,))"
      ]
     },
     "execution_count": 64,
     "metadata": {},
     "output_type": "execute_result"
    }
   ],
   "source": [
    "# Train test split\n",
    "X_train, X_test, y_train, y_test = train_test_split(X, y, test_size = 0.25, random_state = 12345, stratify=y)\n",
    "X_train.shape, X_test.shape, y_train.shape, y_test.shape"
   ]
  },
  {
   "cell_type": "code",
   "execution_count": 65,
   "id": "b1bed335-04b0-4bdd-970e-cb3ebc764e7e",
   "metadata": {},
   "outputs": [],
   "source": [
    "def modelos_ml(modelos):\n",
    "    nombres = []\n",
    "    res = []\n",
    "    scoring = metrics.make_scorer(metrics.recall_score)\n",
    "\n",
    "    for nombre, algoritmo in modelos:\n",
    "        kfold = StratifiedKFold(n_splits=5, shuffle= True, random_state=12345)\n",
    "        results = cross_val_score(algoritmo, X_train,y_train, cv=kfold, scoring=scoring)\n",
    "        res.append(results)\n",
    "        nombres.append(nombre)\n",
    "        print(\"Recall score {}: {}\".format(nombre, results.mean()))\n",
    "\n",
    "    plt.figure(figsize=(8,8))\n",
    "    plt.ylabel(scoring)\n",
    "    plt.boxplot(res)\n",
    "    plt.xticks(range(1, len(nombres) + 1), nombres, rotation = 45)\n",
    "    plt.show()\n",
    "    fig.savefig('./img/modelos.png')\n",
    "    \n",
    "    \n",
    "def modelos_recall(modelos):\n",
    "    for name, model in algoritmos:\n",
    "        model.fit(X_train, y_train)\n",
    "        scores = metrics.recall_score(y_test, model.predict(X_test))\n",
    "        print(\"{}: {}\".format(name, scores))   "
   ]
  },
  {
   "cell_type": "code",
   "execution_count": 66,
   "id": "92e2ac5e-d17a-4432-86fc-bcb25a89726b",
   "metadata": {},
   "outputs": [],
   "source": [
    "seed = 12345\n",
    "\n",
    "algoritmos = [(\"Logistica\", LogisticRegression()),\n",
    "              (\"Arbol de decision\", DecisionTreeClassifier(random_state = seed)),\n",
    "              ('AdaBoost', AdaBoostClassifier(random_state = seed)),\n",
    "              ('CatBoost', CatBoostClassifier(logging_level='Silent')),\n",
    "              (\"LightGBM\", LGBMClassifier(random_state=seed)),\n",
    "              (\"Random forest\", RandomForestClassifier(random_state=seed)),\n",
    "             (\"GBM\", GradientBoostingClassifier(random_state=seed))]"
   ]
  },
  {
   "cell_type": "code",
   "execution_count": 67,
   "id": "023a71d9-960e-47f1-b5b8-d162c54f72db",
   "metadata": {},
   "outputs": [
    {
     "name": "stdout",
     "output_type": "stream",
     "text": [
      "Recall score Logistica: 0.20337254901960783\n",
      "Recall score Arbol de decision: 0.4422745098039216\n",
      "Recall score AdaBoost: 0.28737254901960785\n",
      "Recall score CatBoost: 0.2992156862745098\n",
      "Recall score LightGBM: 0.3949019607843137\n",
      "Recall score Random forest: 0.3389803921568627\n",
      "Recall score GBM: 0.32329411764705884\n"
     ]
    },
    {
     "data": {
      "image/png": "[encoded data removed]",
      "text/plain": [
       "<Figure size 576x576 with 1 Axes>"
      ]
     },
     "metadata": {
      "needs_background": "light"
     },
     "output_type": "display_data"
    }
   ],
   "source": [
    "modelos_ml(algoritmos)"
   ]
  },
  {
   "cell_type": "code",
   "execution_count": 68,
   "id": "1f2d0efc-7616-42f3-ab34-c1238f3e83e6",
   "metadata": {},
   "outputs": [
    {
     "name": "stdout",
     "output_type": "stream",
     "text": [
      "Logistica: 0.1686746987951807\n",
      "Arbol de decision: 0.30120481927710846\n",
      "AdaBoost: 0.2289156626506024\n",
      "CatBoost: 0.1566265060240964\n",
      "LightGBM: 0.30120481927710846\n",
      "Random forest: 0.20481927710843373\n",
      "GBM: 0.1927710843373494\n"
     ]
    }
   ],
   "source": [
    "modelos_recall(algoritmos)"
   ]
  },
  {
   "cell_type": "markdown",
   "id": "460c5939-43b1-4b13-8c96-72fc4a043093",
   "metadata": {
    "tags": []
   },
   "source": [
    "## Tunning"
   ]
  },
  {
   "cell_type": "code",
   "execution_count": 69,
   "id": "501fa91f-f864-49a1-aa9d-e60cc198f13b",
   "metadata": {},
   "outputs": [],
   "source": [
    "# Definir la metrica a utilizar \n",
    "scorer = metrics.make_scorer(metrics.recall_score)"
   ]
  },
  {
   "cell_type": "markdown",
   "id": "54de9eac-4d3e-414c-857d-a832c4aa43c1",
   "metadata": {},
   "source": [
    "### Random Forest Tunning"
   ]
  },
  {
   "cell_type": "markdown",
   "id": "9d082e95-0798-4468-8ad3-3c13624bcd75",
   "metadata": {},
   "source": [
    "Con gridsearchcv"
   ]
  },
  {
   "cell_type": "code",
   "execution_count": 70,
   "id": "46403497-6b68-41ec-80a7-3ee22fff3800",
   "metadata": {},
   "outputs": [
    {
     "name": "stdout",
     "output_type": "stream",
     "text": [
      "Mejores parametros: {'criterion': 'gini', 'max_depth': 8, 'max_features': 'sqrt', 'n_estimators': 400}\n",
      "Mejor score: 0.23921568627450984\n",
      "CPU times: user 1.47 s, sys: 209 ms, total: 1.68 s\n",
      "Wall time: 38.6 s\n"
     ]
    }
   ],
   "source": [
    "%%time \n",
    "# n_jobs=-1 para que ocupe todos los cores\n",
    "\n",
    "model = RandomForestClassifier(random_state=12345)\n",
    "\n",
    "params = {\n",
    "    'n_estimators': [200,300,400,500],\n",
    "    'max_features': ['sqrt', 'log2'],\n",
    "    'max_depth' : [4,5,6,7,8],\n",
    "    'criterion' :['gini', 'entropy']\n",
    "}\n",
    "cv = StratifiedKFold(n_splits=5, shuffle= True, random_state=12345)\n",
    "\n",
    "gsr = GridSearchCV(estimator=model, param_grid=params, scoring=scorer, cv = cv, n_jobs = -1)\n",
    "gsr.fit(X_train, y_train)\n",
    "\n",
    "# scorer: recall\n",
    "print(f'Mejores parametros: {gsr.best_params_}')\n",
    "print(f'Mejor score: {gsr.best_score_}')"
   ]
  },
  {
   "cell_type": "code",
   "execution_count": 71,
   "id": "7778071a-e276-4f38-9771-5811b274c1b1",
   "metadata": {},
   "outputs": [
    {
     "data": {
      "text/html": [
       "<style>#sk-container-id-6 {color: black;background-color: white;}#sk-container-id-6 pre{padding: 0;}#sk-container-id-6 div.sk-toggleable {background-color: white;}#sk-container-id-6 label.sk-toggleable__label {cursor: pointer;display: block;width: 100%;margin-bottom: 0;padding: 0.3em;box-sizing: border-box;text-align: center;}#sk-container-id-6 label.sk-toggleable__label-arrow:before {content: \"▸\";float: left;margin-right: 0.25em;color: #696969;}#sk-container-id-6 label.sk-toggleable__label-arrow:hover:before {color: black;}#sk-container-id-6 div.sk-estimator:hover label.sk-toggleable__label-arrow:before {color: black;}#sk-container-id-6 div.sk-toggleable__content {max-height: 0;max-width: 0;overflow: hidden;text-align: left;background-color: #f0f8ff;}#sk-container-id-6 div.sk-toggleable__content pre {margin: 0.2em;color: black;border-radius: 0.25em;background-color: #f0f8ff;}#sk-container-id-6 input.sk-toggleable__control:checked~div.sk-toggleable__content {max-height: 200px;max-width: 100%;overflow: auto;}#sk-container-id-6 input.sk-toggleable__control:checked~label.sk-toggleable__label-arrow:before {content: \"▾\";}#sk-container-id-6 div.sk-estimator input.sk-toggleable__control:checked~label.sk-toggleable__label {background-color: #d4ebff;}#sk-container-id-6 div.sk-label input.sk-toggleable__control:checked~label.sk-toggleable__label {background-color: #d4ebff;}#sk-container-id-6 input.sk-hidden--visually {border: 0;clip: rect(1px 1px 1px 1px);clip: rect(1px, 1px, 1px, 1px);height: 1px;margin: -1px;overflow: hidden;padding: 0;position: absolute;width: 1px;}#sk-container-id-6 div.sk-estimator {font-family: monospace;background-color: #f0f8ff;border: 1px dotted black;border-radius: 0.25em;box-sizing: border-box;margin-bottom: 0.5em;}#sk-container-id-6 div.sk-estimator:hover {background-color: #d4ebff;}#sk-container-id-6 div.sk-parallel-item::after {content: \"\";width: 100%;border-bottom: 1px solid gray;flex-grow: 1;}#sk-container-id-6 div.sk-label:hover label.sk-toggleable__label {background-color: #d4ebff;}#sk-container-id-6 div.sk-serial::before {content: \"\";position: absolute;border-left: 1px solid gray;box-sizing: border-box;top: 0;bottom: 0;left: 50%;z-index: 0;}#sk-container-id-6 div.sk-serial {display: flex;flex-direction: column;align-items: center;background-color: white;padding-right: 0.2em;padding-left: 0.2em;position: relative;}#sk-container-id-6 div.sk-item {position: relative;z-index: 1;}#sk-container-id-6 div.sk-parallel {display: flex;align-items: stretch;justify-content: center;background-color: white;position: relative;}#sk-container-id-6 div.sk-item::before, #sk-container-id-6 div.sk-parallel-item::before {content: \"\";position: absolute;border-left: 1px solid gray;box-sizing: border-box;top: 0;bottom: 0;left: 50%;z-index: -1;}#sk-container-id-6 div.sk-parallel-item {display: flex;flex-direction: column;z-index: 1;position: relative;background-color: white;}#sk-container-id-6 div.sk-parallel-item:first-child::after {align-self: flex-end;width: 50%;}#sk-container-id-6 div.sk-parallel-item:last-child::after {align-self: flex-start;width: 50%;}#sk-container-id-6 div.sk-parallel-item:only-child::after {width: 0;}#sk-container-id-6 div.sk-dashed-wrapped {border: 1px dashed gray;margin: 0 0.4em 0.5em 0.4em;box-sizing: border-box;padding-bottom: 0.4em;background-color: white;}#sk-container-id-6 div.sk-label label {font-family: monospace;font-weight: bold;display: inline-block;line-height: 1.2em;}#sk-container-id-6 div.sk-label-container {text-align: center;}#sk-container-id-6 div.sk-container {/* jupyter's `normalize.less` sets `[hidden] { display: none; }` but bootstrap.min.css set `[hidden] { display: none !important; }` so we also need the `!important` here to be able to override the default hidden behavior on the sphinx rendered scikit-learn.org. See: https://github.com/scikit-learn/scikit-learn/issues/21755 */display: inline-block !important;position: relative;}#sk-container-id-6 div.sk-text-repr-fallback {display: none;}</style><div id=\"sk-container-id-6\" class=\"sk-top-container\"><div class=\"sk-text-repr-fallback\"><pre>RandomForestClassifier(max_depth=8, n_estimators=400)</pre><b>In a Jupyter environment, please rerun this cell to show the HTML representation or trust the notebook. <br />On GitHub, the HTML representation is unable to render, please try loading this page with nbviewer.org.</b></div><div class=\"sk-container\" hidden><div class=\"sk-item\"><div class=\"sk-estimator sk-toggleable\"><input class=\"sk-toggleable__control sk-hidden--visually\" id=\"sk-estimator-id-6\" type=\"checkbox\" checked><label for=\"sk-estimator-id-6\" class=\"sk-toggleable__label sk-toggleable__label-arrow\">RandomForestClassifier</label><div class=\"sk-toggleable__content\"><pre>RandomForestClassifier(max_depth=8, n_estimators=400)</pre></div></div></div></div></div>"
      ],
      "text/plain": [
       "RandomForestClassifier(max_depth=8, n_estimators=400)"
      ]
     },
     "execution_count": 71,
     "metadata": {},
     "output_type": "execute_result"
    }
   ],
   "source": [
    "## Construyo modelo con los parametros tuneados\n",
    "rf = RandomForestClassifier(\n",
    "    n_estimators = 400,\n",
    "    criterion = 'gini',\n",
    "    max_depth = 8, \n",
    "    max_features = 'sqrt'\n",
    ")\n",
    "\n",
    "rf.fit(X_train, y_train)\n",
    "# y_pred = rf.predict(X_test)\n",
    "\n",
    "# accuracy.append(round(accuracy_score(y_test, y_pred),4))\n",
    "# recall.append(round(recall_score(y_test, y_pred),4))\n",
    "# roc_auc.append(round(roc_auc_score(y_test, y_pred),4))\n",
    "# precision.append(round(precision_score(y_test, y_pred),4))\n",
    "# f1.append(round(f1_score(y_test, y_pred),4))\n",
    "\n",
    "# model_names = ['Random Forest']\n",
    "# result_rf = pd.DataFrame({'Accuracy':accuracy,'Recall':recall, 'Roc_Auc':roc_auc, 'Precision':precision, 'f1': f1}, index=model_names)\n",
    "# result_rf"
   ]
  },
  {
   "cell_type": "code",
   "execution_count": 72,
   "id": "5eb8c49f-947f-4ae8-af12-165352c5a2bd",
   "metadata": {},
   "outputs": [
    {
     "data": {
      "text/html": [
       "<div>\n",
       "<style scoped>\n",
       "    .dataframe tbody tr th:only-of-type {\n",
       "        vertical-align: middle;\n",
       "    }\n",
       "\n",
       "    .dataframe tbody tr th {\n",
       "        vertical-align: top;\n",
       "    }\n",
       "\n",
       "    .dataframe thead th {\n",
       "        text-align: right;\n",
       "    }\n",
       "</style>\n",
       "<table border=\"1\" class=\"dataframe\">\n",
       "  <thead>\n",
       "    <tr style=\"text-align: right;\">\n",
       "      <th></th>\n",
       "      <th>Accuracy</th>\n",
       "      <th>Recall</th>\n",
       "      <th>Roc-Auc</th>\n",
       "      <th>Precision</th>\n",
       "      <th>F1</th>\n",
       "    </tr>\n",
       "  </thead>\n",
       "  <tbody>\n",
       "    <tr>\n",
       "      <th>rf train</th>\n",
       "      <td>0.9219</td>\n",
       "      <td>0.4781</td>\n",
       "      <td>0.739</td>\n",
       "      <td>1.0</td>\n",
       "      <td>0.6469</td>\n",
       "    </tr>\n",
       "  </tbody>\n",
       "</table>\n",
       "</div>"
      ],
      "text/plain": [
       "          Accuracy  Recall  Roc-Auc  Precision      F1\n",
       "rf train    0.9219  0.4781    0.739        1.0  0.6469"
      ]
     },
     "execution_count": 72,
     "metadata": {},
     "output_type": "execute_result"
    }
   ],
   "source": [
    "# Resultados en train\n",
    "res_rftrain = reportes(rf, X_train, y_train, nombre = \"rf train\")\n",
    "res_rftrain"
   ]
  },
  {
   "cell_type": "code",
   "execution_count": 73,
   "id": "67249f78-efde-45f8-9938-8ce66217ab25",
   "metadata": {},
   "outputs": [
    {
     "data": {
      "text/html": [
       "<div>\n",
       "<style scoped>\n",
       "    .dataframe tbody tr th:only-of-type {\n",
       "        vertical-align: middle;\n",
       "    }\n",
       "\n",
       "    .dataframe tbody tr th {\n",
       "        vertical-align: top;\n",
       "    }\n",
       "\n",
       "    .dataframe thead th {\n",
       "        text-align: right;\n",
       "    }\n",
       "</style>\n",
       "<table border=\"1\" class=\"dataframe\">\n",
       "  <thead>\n",
       "    <tr style=\"text-align: right;\">\n",
       "      <th></th>\n",
       "      <th>Accuracy</th>\n",
       "      <th>Recall</th>\n",
       "      <th>Roc-Auc</th>\n",
       "      <th>Precision</th>\n",
       "      <th>F1</th>\n",
       "    </tr>\n",
       "  </thead>\n",
       "  <tbody>\n",
       "    <tr>\n",
       "      <th>rf test</th>\n",
       "      <td>0.8515</td>\n",
       "      <td>0.1687</td>\n",
       "      <td>0.5696</td>\n",
       "      <td>0.5</td>\n",
       "      <td>0.2523</td>\n",
       "    </tr>\n",
       "  </tbody>\n",
       "</table>\n",
       "</div>"
      ],
      "text/plain": [
       "         Accuracy  Recall  Roc-Auc  Precision      F1\n",
       "rf test    0.8515  0.1687   0.5696        0.5  0.2523"
      ]
     },
     "execution_count": 73,
     "metadata": {},
     "output_type": "execute_result"
    }
   ],
   "source": [
    "# Resultados en test\n",
    "res_rftest = reportes(rf, X_test, y_test, nombre = \"rf test\")\n",
    "res_rftest"
   ]
  },
  {
   "cell_type": "code",
   "execution_count": 74,
   "id": "7165c57d-f06f-4517-9da9-c0adf50f491d",
   "metadata": {},
   "outputs": [
    {
     "data": {
      "image/png": "[encoded data removed]",
      "text/plain": [
       "<Figure size 432x288 with 2 Axes>"
      ]
     },
     "metadata": {
      "needs_background": "light"
     },
     "output_type": "display_data"
    }
   ],
   "source": [
    "# Muestra la matriz\n",
    "confusion(rf, X_test, y_test)"
   ]
  },
  {
   "cell_type": "markdown",
   "id": "da9cb403-d97b-46fc-90d4-9e2f695125f6",
   "metadata": {},
   "source": [
    "### Ada boost\n"
   ]
  },
  {
   "cell_type": "code",
   "execution_count": 75,
   "id": "80fed263-e24c-45f6-bfe0-b2e44f6c66b7",
   "metadata": {},
   "outputs": [
    {
     "name": "stdout",
     "output_type": "stream",
     "text": [
      "Mejores parametros: {'learning_rate': 1, 'n_estimators': 90}\n",
      "Mejor score: 0.3114509803921569\n",
      "CPU times: user 441 ms, sys: 41.6 ms, total: 482 ms\n",
      "Wall time: 4.08 s\n"
     ]
    }
   ],
   "source": [
    "%%time \n",
    "# defining model\n",
    "model = AdaBoostClassifier(random_state=12345)\n",
    "\n",
    "# Parameter grid to pass in GridSearchCV\n",
    "param_grid = {\n",
    "    \"n_estimators\": np.arange(10, 110, 10),\n",
    "    \"learning_rate\": [0.1, 0.01, 0.2, 0.05, 1],\n",
    "}\n",
    "\n",
    "cv = StratifiedKFold(n_splits=5, shuffle= True, random_state=12345)\n",
    "\n",
    "# Calling GridSearchCV\n",
    "grid_ab = GridSearchCV(estimator=model, param_grid=param_grid, scoring=scorer, cv=cv, n_jobs = -1)\n",
    "\n",
    "# Fitting parameters in GridSearchCV\n",
    "grid_ab.fit(X_train, y_train)\n",
    "\n",
    "# scorer: recall\n",
    "print(f'Mejores parametros: {grid_ab.best_params_}')\n",
    "print(f'Mejor score: {grid_ab.best_score_}')"
   ]
  },
  {
   "cell_type": "code",
   "execution_count": 76,
   "id": "14dcf169-adec-4452-833f-dbd6417b0801",
   "metadata": {},
   "outputs": [
    {
     "data": {
      "text/html": [
       "<style>#sk-container-id-7 {color: black;background-color: white;}#sk-container-id-7 pre{padding: 0;}#sk-container-id-7 div.sk-toggleable {background-color: white;}#sk-container-id-7 label.sk-toggleable__label {cursor: pointer;display: block;width: 100%;margin-bottom: 0;padding: 0.3em;box-sizing: border-box;text-align: center;}#sk-container-id-7 label.sk-toggleable__label-arrow:before {content: \"▸\";float: left;margin-right: 0.25em;color: #696969;}#sk-container-id-7 label.sk-toggleable__label-arrow:hover:before {color: black;}#sk-container-id-7 div.sk-estimator:hover label.sk-toggleable__label-arrow:before {color: black;}#sk-container-id-7 div.sk-toggleable__content {max-height: 0;max-width: 0;overflow: hidden;text-align: left;background-color: #f0f8ff;}#sk-container-id-7 div.sk-toggleable__content pre {margin: 0.2em;color: black;border-radius: 0.25em;background-color: #f0f8ff;}#sk-container-id-7 input.sk-toggleable__control:checked~div.sk-toggleable__content {max-height: 200px;max-width: 100%;overflow: auto;}#sk-container-id-7 input.sk-toggleable__control:checked~label.sk-toggleable__label-arrow:before {content: \"▾\";}#sk-container-id-7 div.sk-estimator input.sk-toggleable__control:checked~label.sk-toggleable__label {background-color: #d4ebff;}#sk-container-id-7 div.sk-label input.sk-toggleable__control:checked~label.sk-toggleable__label {background-color: #d4ebff;}#sk-container-id-7 input.sk-hidden--visually {border: 0;clip: rect(1px 1px 1px 1px);clip: rect(1px, 1px, 1px, 1px);height: 1px;margin: -1px;overflow: hidden;padding: 0;position: absolute;width: 1px;}#sk-container-id-7 div.sk-estimator {font-family: monospace;background-color: #f0f8ff;border: 1px dotted black;border-radius: 0.25em;box-sizing: border-box;margin-bottom: 0.5em;}#sk-container-id-7 div.sk-estimator:hover {background-color: #d4ebff;}#sk-container-id-7 div.sk-parallel-item::after {content: \"\";width: 100%;border-bottom: 1px solid gray;flex-grow: 1;}#sk-container-id-7 div.sk-label:hover label.sk-toggleable__label {background-color: #d4ebff;}#sk-container-id-7 div.sk-serial::before {content: \"\";position: absolute;border-left: 1px solid gray;box-sizing: border-box;top: 0;bottom: 0;left: 50%;z-index: 0;}#sk-container-id-7 div.sk-serial {display: flex;flex-direction: column;align-items: center;background-color: white;padding-right: 0.2em;padding-left: 0.2em;position: relative;}#sk-container-id-7 div.sk-item {position: relative;z-index: 1;}#sk-container-id-7 div.sk-parallel {display: flex;align-items: stretch;justify-content: center;background-color: white;position: relative;}#sk-container-id-7 div.sk-item::before, #sk-container-id-7 div.sk-parallel-item::before {content: \"\";position: absolute;border-left: 1px solid gray;box-sizing: border-box;top: 0;bottom: 0;left: 50%;z-index: -1;}#sk-container-id-7 div.sk-parallel-item {display: flex;flex-direction: column;z-index: 1;position: relative;background-color: white;}#sk-container-id-7 div.sk-parallel-item:first-child::after {align-self: flex-end;width: 50%;}#sk-container-id-7 div.sk-parallel-item:last-child::after {align-self: flex-start;width: 50%;}#sk-container-id-7 div.sk-parallel-item:only-child::after {width: 0;}#sk-container-id-7 div.sk-dashed-wrapped {border: 1px dashed gray;margin: 0 0.4em 0.5em 0.4em;box-sizing: border-box;padding-bottom: 0.4em;background-color: white;}#sk-container-id-7 div.sk-label label {font-family: monospace;font-weight: bold;display: inline-block;line-height: 1.2em;}#sk-container-id-7 div.sk-label-container {text-align: center;}#sk-container-id-7 div.sk-container {/* jupyter's `normalize.less` sets `[hidden] { display: none; }` but bootstrap.min.css set `[hidden] { display: none !important; }` so we also need the `!important` here to be able to override the default hidden behavior on the sphinx rendered scikit-learn.org. See: https://github.com/scikit-learn/scikit-learn/issues/21755 */display: inline-block !important;position: relative;}#sk-container-id-7 div.sk-text-repr-fallback {display: none;}</style><div id=\"sk-container-id-7\" class=\"sk-top-container\"><div class=\"sk-text-repr-fallback\"><pre>AdaBoostClassifier(learning_rate=1, n_estimators=90, random_state=12345)</pre><b>In a Jupyter environment, please rerun this cell to show the HTML representation or trust the notebook. <br />On GitHub, the HTML representation is unable to render, please try loading this page with nbviewer.org.</b></div><div class=\"sk-container\" hidden><div class=\"sk-item\"><div class=\"sk-estimator sk-toggleable\"><input class=\"sk-toggleable__control sk-hidden--visually\" id=\"sk-estimator-id-7\" type=\"checkbox\" checked><label for=\"sk-estimator-id-7\" class=\"sk-toggleable__label sk-toggleable__label-arrow\">AdaBoostClassifier</label><div class=\"sk-toggleable__content\"><pre>AdaBoostClassifier(learning_rate=1, n_estimators=90, random_state=12345)</pre></div></div></div></div></div>"
      ],
      "text/plain": [
       "AdaBoostClassifier(learning_rate=1, n_estimators=90, random_state=12345)"
      ]
     },
     "execution_count": 76,
     "metadata": {},
     "output_type": "execute_result"
    }
   ],
   "source": [
    "# Se modela con los mejores parametros\n",
    "ada = AdaBoostClassifier(\n",
    "        learning_rate = 1,\n",
    "        n_estimators = 90,\n",
    "        random_state = 12345\n",
    ")\n",
    "\n",
    "ada.fit(X_train, y_train)"
   ]
  },
  {
   "cell_type": "code",
   "execution_count": 77,
   "id": "641b3b1f-2d73-4844-8dfa-27e2462ba4b2",
   "metadata": {},
   "outputs": [
    {
     "data": {
      "text/html": [
       "<div>\n",
       "<style scoped>\n",
       "    .dataframe tbody tr th:only-of-type {\n",
       "        vertical-align: middle;\n",
       "    }\n",
       "\n",
       "    .dataframe tbody tr th {\n",
       "        vertical-align: top;\n",
       "    }\n",
       "\n",
       "    .dataframe thead th {\n",
       "        text-align: right;\n",
       "    }\n",
       "</style>\n",
       "<table border=\"1\" class=\"dataframe\">\n",
       "  <thead>\n",
       "    <tr style=\"text-align: right;\">\n",
       "      <th></th>\n",
       "      <th>Accuracy</th>\n",
       "      <th>Recall</th>\n",
       "      <th>Roc-Auc</th>\n",
       "      <th>Precision</th>\n",
       "      <th>F1</th>\n",
       "    </tr>\n",
       "  </thead>\n",
       "  <tbody>\n",
       "    <tr>\n",
       "      <th>ada train</th>\n",
       "      <td>0.8784</td>\n",
       "      <td>0.3546</td>\n",
       "      <td>0.6626</td>\n",
       "      <td>0.6794</td>\n",
       "      <td>0.466</td>\n",
       "    </tr>\n",
       "  </tbody>\n",
       "</table>\n",
       "</div>"
      ],
      "text/plain": [
       "           Accuracy  Recall  Roc-Auc  Precision     F1\n",
       "ada train    0.8784  0.3546   0.6626     0.6794  0.466"
      ]
     },
     "execution_count": 77,
     "metadata": {},
     "output_type": "execute_result"
    }
   ],
   "source": [
    "# Resultados en train\n",
    "res_adatrain = reportes(ada, X_train, y_train, nombre = \"ada train\")\n",
    "res_adatrain"
   ]
  },
  {
   "cell_type": "code",
   "execution_count": 78,
   "id": "eb5b4417-02fc-430c-a475-c97a300411a1",
   "metadata": {},
   "outputs": [
    {
     "data": {
      "text/html": [
       "<div>\n",
       "<style scoped>\n",
       "    .dataframe tbody tr th:only-of-type {\n",
       "        vertical-align: middle;\n",
       "    }\n",
       "\n",
       "    .dataframe tbody tr th {\n",
       "        vertical-align: top;\n",
       "    }\n",
       "\n",
       "    .dataframe thead th {\n",
       "        text-align: right;\n",
       "    }\n",
       "</style>\n",
       "<table border=\"1\" class=\"dataframe\">\n",
       "  <thead>\n",
       "    <tr style=\"text-align: right;\">\n",
       "      <th></th>\n",
       "      <th>Accuracy</th>\n",
       "      <th>Recall</th>\n",
       "      <th>Roc-Auc</th>\n",
       "      <th>Precision</th>\n",
       "      <th>F1</th>\n",
       "    </tr>\n",
       "  </thead>\n",
       "  <tbody>\n",
       "    <tr>\n",
       "      <th>ada test</th>\n",
       "      <td>0.8354</td>\n",
       "      <td>0.2169</td>\n",
       "      <td>0.5801</td>\n",
       "      <td>0.4</td>\n",
       "      <td>0.2812</td>\n",
       "    </tr>\n",
       "  </tbody>\n",
       "</table>\n",
       "</div>"
      ],
      "text/plain": [
       "          Accuracy  Recall  Roc-Auc  Precision      F1\n",
       "ada test    0.8354  0.2169   0.5801        0.4  0.2812"
      ]
     },
     "execution_count": 78,
     "metadata": {},
     "output_type": "execute_result"
    }
   ],
   "source": [
    "# Resultados en test\n",
    "res_adatest = reportes(ada, X_test, y_test, nombre = \"ada test\")\n",
    "res_adatest"
   ]
  },
  {
   "cell_type": "code",
   "execution_count": 79,
   "id": "872c835b-c70c-4914-aff3-4c5515b63344",
   "metadata": {},
   "outputs": [
    {
     "data": {
      "image/png": "[encoded data removed]",
      "text/plain": [
       "<Figure size 432x288 with 2 Axes>"
      ]
     },
     "metadata": {
      "needs_background": "light"
     },
     "output_type": "display_data"
    }
   ],
   "source": [
    "confusion(ada, X_test, y_test)"
   ]
  },
  {
   "cell_type": "markdown",
   "id": "8e98ed01-ccb4-4f6a-9f8e-155d0b8c87ae",
   "metadata": {},
   "source": [
    "### Gradient boosting"
   ]
  },
  {
   "cell_type": "code",
   "execution_count": 80,
   "id": "198f089f-6ba3-49bf-90b2-6dd4246d984c",
   "metadata": {},
   "outputs": [
    {
     "name": "stdout",
     "output_type": "stream",
     "text": [
      "Mejores parametros: {'learning_rate': 1, 'max_depth': 8, 'max_features': 0.8, 'min_samples_split': 400, 'n_estimators': 75, 'subsample': 0.4}\n",
      "Mejor score: 0.4778039215686274\n",
      "CPU times: user 14 s, sys: 1.05 s, total: 15 s\n",
      "Wall time: 1min 41s\n"
     ]
    }
   ],
   "source": [
    "%%time \n",
    "# definir modelo\n",
    "model = GradientBoostingClassifier(random_state=12345)\n",
    "\n",
    "# grilla de parametros\n",
    "param_grid={\n",
    "            \"n_estimators\": np.arange(25,100,25),\n",
    "            \"learning_rate\": [0.2,0.01, 0.05, 1],\n",
    "            \"subsample\":[0.2,0.3,0.4,0.5],\n",
    "            \"max_features\":[0.5,0.6,0.7,0.8],\n",
    "            \"max_depth\":range(5,9,1), \n",
    "            'min_samples_split':range(400,800,100)}\n",
    "\n",
    "cv = StratifiedKFold(n_splits=5, shuffle= True, random_state=12345)\n",
    "# llama a grid\n",
    "grid_cv = GridSearchCV(estimator=model, param_grid=param_grid, scoring=scorer, n_jobs = -1, cv=cv)\n",
    "\n",
    "# Fit\n",
    "grid_cv.fit(X_train, y_train)\n",
    "\n",
    "print(f'Mejores parametros: {grid_cv.best_params_}')\n",
    "print(f'Mejor score: {grid_cv.best_score_}')"
   ]
  },
  {
   "cell_type": "code",
   "execution_count": 81,
   "id": "22821a87-8681-4d72-8032-720bd6cac009",
   "metadata": {},
   "outputs": [
    {
     "data": {
      "text/html": [
       "<style>#sk-container-id-8 {color: black;background-color: white;}#sk-container-id-8 pre{padding: 0;}#sk-container-id-8 div.sk-toggleable {background-color: white;}#sk-container-id-8 label.sk-toggleable__label {cursor: pointer;display: block;width: 100%;margin-bottom: 0;padding: 0.3em;box-sizing: border-box;text-align: center;}#sk-container-id-8 label.sk-toggleable__label-arrow:before {content: \"▸\";float: left;margin-right: 0.25em;color: #696969;}#sk-container-id-8 label.sk-toggleable__label-arrow:hover:before {color: black;}#sk-container-id-8 div.sk-estimator:hover label.sk-toggleable__label-arrow:before {color: black;}#sk-container-id-8 div.sk-toggleable__content {max-height: 0;max-width: 0;overflow: hidden;text-align: left;background-color: #f0f8ff;}#sk-container-id-8 div.sk-toggleable__content pre {margin: 0.2em;color: black;border-radius: 0.25em;background-color: #f0f8ff;}#sk-container-id-8 input.sk-toggleable__control:checked~div.sk-toggleable__content {max-height: 200px;max-width: 100%;overflow: auto;}#sk-container-id-8 input.sk-toggleable__control:checked~label.sk-toggleable__label-arrow:before {content: \"▾\";}#sk-container-id-8 div.sk-estimator input.sk-toggleable__control:checked~label.sk-toggleable__label {background-color: #d4ebff;}#sk-container-id-8 div.sk-label input.sk-toggleable__control:checked~label.sk-toggleable__label {background-color: #d4ebff;}#sk-container-id-8 input.sk-hidden--visually {border: 0;clip: rect(1px 1px 1px 1px);clip: rect(1px, 1px, 1px, 1px);height: 1px;margin: -1px;overflow: hidden;padding: 0;position: absolute;width: 1px;}#sk-container-id-8 div.sk-estimator {font-family: monospace;background-color: #f0f8ff;border: 1px dotted black;border-radius: 0.25em;box-sizing: border-box;margin-bottom: 0.5em;}#sk-container-id-8 div.sk-estimator:hover {background-color: #d4ebff;}#sk-container-id-8 div.sk-parallel-item::after {content: \"\";width: 100%;border-bottom: 1px solid gray;flex-grow: 1;}#sk-container-id-8 div.sk-label:hover label.sk-toggleable__label {background-color: #d4ebff;}#sk-container-id-8 div.sk-serial::before {content: \"\";position: absolute;border-left: 1px solid gray;box-sizing: border-box;top: 0;bottom: 0;left: 50%;z-index: 0;}#sk-container-id-8 div.sk-serial {display: flex;flex-direction: column;align-items: center;background-color: white;padding-right: 0.2em;padding-left: 0.2em;position: relative;}#sk-container-id-8 div.sk-item {position: relative;z-index: 1;}#sk-container-id-8 div.sk-parallel {display: flex;align-items: stretch;justify-content: center;background-color: white;position: relative;}#sk-container-id-8 div.sk-item::before, #sk-container-id-8 div.sk-parallel-item::before {content: \"\";position: absolute;border-left: 1px solid gray;box-sizing: border-box;top: 0;bottom: 0;left: 50%;z-index: -1;}#sk-container-id-8 div.sk-parallel-item {display: flex;flex-direction: column;z-index: 1;position: relative;background-color: white;}#sk-container-id-8 div.sk-parallel-item:first-child::after {align-self: flex-end;width: 50%;}#sk-container-id-8 div.sk-parallel-item:last-child::after {align-self: flex-start;width: 50%;}#sk-container-id-8 div.sk-parallel-item:only-child::after {width: 0;}#sk-container-id-8 div.sk-dashed-wrapped {border: 1px dashed gray;margin: 0 0.4em 0.5em 0.4em;box-sizing: border-box;padding-bottom: 0.4em;background-color: white;}#sk-container-id-8 div.sk-label label {font-family: monospace;font-weight: bold;display: inline-block;line-height: 1.2em;}#sk-container-id-8 div.sk-label-container {text-align: center;}#sk-container-id-8 div.sk-container {/* jupyter's `normalize.less` sets `[hidden] { display: none; }` but bootstrap.min.css set `[hidden] { display: none !important; }` so we also need the `!important` here to be able to override the default hidden behavior on the sphinx rendered scikit-learn.org. See: https://github.com/scikit-learn/scikit-learn/issues/21755 */display: inline-block !important;position: relative;}#sk-container-id-8 div.sk-text-repr-fallback {display: none;}</style><div id=\"sk-container-id-8\" class=\"sk-top-container\"><div class=\"sk-text-repr-fallback\"><pre>GradientBoostingClassifier(learning_rate=1, max_depth=8, max_features=0.8,\n",
       "                           min_samples_split=400, n_estimators=50,\n",
       "                           random_state=1, subsample=0.4)</pre><b>In a Jupyter environment, please rerun this cell to show the HTML representation or trust the notebook. <br />On GitHub, the HTML representation is unable to render, please try loading this page with nbviewer.org.</b></div><div class=\"sk-container\" hidden><div class=\"sk-item\"><div class=\"sk-estimator sk-toggleable\"><input class=\"sk-toggleable__control sk-hidden--visually\" id=\"sk-estimator-id-8\" type=\"checkbox\" checked><label for=\"sk-estimator-id-8\" class=\"sk-toggleable__label sk-toggleable__label-arrow\">GradientBoostingClassifier</label><div class=\"sk-toggleable__content\"><pre>GradientBoostingClassifier(learning_rate=1, max_depth=8, max_features=0.8,\n",
       "                           min_samples_split=400, n_estimators=50,\n",
       "                           random_state=1, subsample=0.4)</pre></div></div></div></div></div>"
      ],
      "text/plain": [
       "GradientBoostingClassifier(learning_rate=1, max_depth=8, max_features=0.8,\n",
       "                           min_samples_split=400, n_estimators=50,\n",
       "                           random_state=1, subsample=0.4)"
      ]
     },
     "execution_count": 81,
     "metadata": {},
     "output_type": "execute_result"
    }
   ],
   "source": [
    "# Se modela con los mejores parametros\n",
    "gbm = GradientBoostingClassifier(\n",
    "    max_features = 0.8,\n",
    "    max_depth = 8,\n",
    "    min_samples_split = 400,\n",
    "    random_state=1,\n",
    "    learning_rate = 1,\n",
    "    n_estimators = 50,\n",
    "    subsample = 0.4\n",
    ")\n",
    "\n",
    "gbm.fit(X_train, y_train)\n"
   ]
  },
  {
   "cell_type": "code",
   "execution_count": 82,
   "id": "6187bb4e-cb25-4a8a-ac5b-a9057a780c72",
   "metadata": {},
   "outputs": [
    {
     "data": {
      "text/html": [
       "<div>\n",
       "<style scoped>\n",
       "    .dataframe tbody tr th:only-of-type {\n",
       "        vertical-align: middle;\n",
       "    }\n",
       "\n",
       "    .dataframe tbody tr th {\n",
       "        vertical-align: top;\n",
       "    }\n",
       "\n",
       "    .dataframe thead th {\n",
       "        text-align: right;\n",
       "    }\n",
       "</style>\n",
       "<table border=\"1\" class=\"dataframe\">\n",
       "  <thead>\n",
       "    <tr style=\"text-align: right;\">\n",
       "      <th></th>\n",
       "      <th>Accuracy</th>\n",
       "      <th>Recall</th>\n",
       "      <th>Roc-Auc</th>\n",
       "      <th>Precision</th>\n",
       "      <th>F1</th>\n",
       "    </tr>\n",
       "  </thead>\n",
       "  <tbody>\n",
       "    <tr>\n",
       "      <th>gbm train</th>\n",
       "      <td>0.8557</td>\n",
       "      <td>0.5339</td>\n",
       "      <td>0.7231</td>\n",
       "      <td>0.5174</td>\n",
       "      <td>0.5255</td>\n",
       "    </tr>\n",
       "  </tbody>\n",
       "</table>\n",
       "</div>"
      ],
      "text/plain": [
       "           Accuracy  Recall  Roc-Auc  Precision      F1\n",
       "gbm train    0.8557  0.5339   0.7231     0.5174  0.5255"
      ]
     },
     "execution_count": 82,
     "metadata": {},
     "output_type": "execute_result"
    }
   ],
   "source": [
    "# Resultados en train\n",
    "res_gbmtrain = reportes(gbm, X_train, y_train, nombre = \"gbm train\")\n",
    "res_gbmtrain"
   ]
  },
  {
   "cell_type": "code",
   "execution_count": 83,
   "id": "f0db0d96-dfa9-4660-8527-a0dcee05aec8",
   "metadata": {},
   "outputs": [
    {
     "data": {
      "text/html": [
       "<div>\n",
       "<style scoped>\n",
       "    .dataframe tbody tr th:only-of-type {\n",
       "        vertical-align: middle;\n",
       "    }\n",
       "\n",
       "    .dataframe tbody tr th {\n",
       "        vertical-align: top;\n",
       "    }\n",
       "\n",
       "    .dataframe thead th {\n",
       "        text-align: right;\n",
       "    }\n",
       "</style>\n",
       "<table border=\"1\" class=\"dataframe\">\n",
       "  <thead>\n",
       "    <tr style=\"text-align: right;\">\n",
       "      <th></th>\n",
       "      <th>Accuracy</th>\n",
       "      <th>Recall</th>\n",
       "      <th>Roc-Auc</th>\n",
       "      <th>Precision</th>\n",
       "      <th>F1</th>\n",
       "    </tr>\n",
       "  </thead>\n",
       "  <tbody>\n",
       "    <tr>\n",
       "      <th>gbm test</th>\n",
       "      <td>0.7996</td>\n",
       "      <td>0.4096</td>\n",
       "      <td>0.6386</td>\n",
       "      <td>0.3505</td>\n",
       "      <td>0.3778</td>\n",
       "    </tr>\n",
       "  </tbody>\n",
       "</table>\n",
       "</div>"
      ],
      "text/plain": [
       "          Accuracy  Recall  Roc-Auc  Precision      F1\n",
       "gbm test    0.7996  0.4096   0.6386     0.3505  0.3778"
      ]
     },
     "execution_count": 83,
     "metadata": {},
     "output_type": "execute_result"
    }
   ],
   "source": [
    "# Resultados en test\n",
    "res_gbmtest = reportes(gbm, X_test, y_test, nombre = \"gbm test\")\n",
    "res_gbmtest"
   ]
  },
  {
   "cell_type": "code",
   "execution_count": 84,
   "id": "ccefb86f-09a3-4fcb-82a4-ad59f6a4b743",
   "metadata": {},
   "outputs": [
    {
     "data": {
      "image/png": "[encoded data removed]",
      "text/plain": [
       "<Figure size 432x288 with 2 Axes>"
      ]
     },
     "metadata": {
      "needs_background": "light"
     },
     "output_type": "display_data"
    }
   ],
   "source": [
    "confusion(gbm, X_test, y_test)"
   ]
  },
  {
   "cell_type": "markdown",
   "id": "d8475225-463d-44c1-a7e6-6251a8b30eda",
   "metadata": {},
   "source": [
    "### Catboost tunning\n"
   ]
  },
  {
   "cell_type": "code",
   "execution_count": 85,
   "id": "1437942f-ad98-468c-8119-35c9ad3b2166",
   "metadata": {},
   "outputs": [
    {
     "name": "stdout",
     "output_type": "stream",
     "text": [
      "Mejor estimador: <catboost.core.CatBoostClassifier object at 0x7fd941baef70>\n",
      "Mejores parametros: {'learning_rate': 0.1, 'max_depth': 4, 'n_estimators': 300}\n",
      "Mejor score: 0.3471372549019608\n",
      "CPU times: user 23.9 s, sys: 22.5 s, total: 46.4 s\n",
      "Wall time: 17.7 s\n"
     ]
    }
   ],
   "source": [
    "%%time\n",
    "# Definir modelo\n",
    "cbc = CatBoostClassifier(logging_level='Silent', random_state=12345)\n",
    "\n",
    "# Crear la grilla\n",
    "grid = {'max_depth': [3,4,5],'n_estimators':[100, 200, 300],'learning_rate' : [0.01, 0.05, 0.1]}\n",
    "\n",
    "#cv\n",
    "cv = StratifiedKFold(n_splits=5, shuffle= True, random_state=12345)\n",
    "\n",
    "# Llama a grid search\n",
    "gscv = GridSearchCV (estimator = cbc, param_grid = grid, scoring = scorer, cv = cv, verbose=False)\n",
    "\n",
    "#fit the model\n",
    "gscv.fit(X_train,y_train)\n",
    "\n",
    "# Resultados\n",
    "print(f'Mejor estimador: {gscv.best_estimator_}')\n",
    "print(f'Mejores parametros: {gscv.best_params_}')\n",
    "print(f'Mejor score: {gscv.best_score_}')\n"
   ]
  },
  {
   "cell_type": "code",
   "execution_count": 86,
   "id": "7511637f-1f03-400e-88e3-05d2b013dfbb",
   "metadata": {},
   "outputs": [
    {
     "data": {
      "text/plain": [
       "<catboost.core.CatBoostClassifier at 0x7fd91294ba90>"
      ]
     },
     "execution_count": 86,
     "metadata": {},
     "output_type": "execute_result"
    }
   ],
   "source": [
    "# Se modela con los mejores parametros\n",
    "catboost = CatBoostClassifier(\n",
    "    max_depth = 4,\n",
    "    n_estimators = 300,\n",
    "    learning_rate = 0.1,\n",
    "    logging_level = 'Silent' #para que no salga print de iteraciones\n",
    "\n",
    ")\n",
    "\n",
    "catboost.fit(X_train, y_train,eval_set=(X_test, y_test),early_stopping_rounds = 10,use_best_model = True)"
   ]
  },
  {
   "cell_type": "code",
   "execution_count": 87,
   "id": "1c5d914b-bd48-461c-8831-c5345e008046",
   "metadata": {},
   "outputs": [
    {
     "data": {
      "text/html": [
       "<div>\n",
       "<style scoped>\n",
       "    .dataframe tbody tr th:only-of-type {\n",
       "        vertical-align: middle;\n",
       "    }\n",
       "\n",
       "    .dataframe tbody tr th {\n",
       "        vertical-align: top;\n",
       "    }\n",
       "\n",
       "    .dataframe thead th {\n",
       "        text-align: right;\n",
       "    }\n",
       "</style>\n",
       "<table border=\"1\" class=\"dataframe\">\n",
       "  <thead>\n",
       "    <tr style=\"text-align: right;\">\n",
       "      <th></th>\n",
       "      <th>Accuracy</th>\n",
       "      <th>Recall</th>\n",
       "      <th>Roc-Auc</th>\n",
       "      <th>Precision</th>\n",
       "      <th>F1</th>\n",
       "    </tr>\n",
       "  </thead>\n",
       "  <tbody>\n",
       "    <tr>\n",
       "      <th>catboosting train</th>\n",
       "      <td>0.8903</td>\n",
       "      <td>0.3347</td>\n",
       "      <td>0.6614</td>\n",
       "      <td>0.8317</td>\n",
       "      <td>0.4773</td>\n",
       "    </tr>\n",
       "  </tbody>\n",
       "</table>\n",
       "</div>"
      ],
      "text/plain": [
       "                   Accuracy  Recall  Roc-Auc  Precision      F1\n",
       "catboosting train    0.8903  0.3347   0.6614     0.8317  0.4773"
      ]
     },
     "execution_count": 87,
     "metadata": {},
     "output_type": "execute_result"
    }
   ],
   "source": [
    "# Resultados en train\n",
    "res_cbtrain = reportes(catboost, X_train, y_train, nombre = \"catboosting train\")\n",
    "res_cbtrain"
   ]
  },
  {
   "cell_type": "code",
   "execution_count": 88,
   "id": "72492145-a796-467c-b30c-f3cd8df08097",
   "metadata": {},
   "outputs": [
    {
     "data": {
      "text/html": [
       "<div>\n",
       "<style scoped>\n",
       "    .dataframe tbody tr th:only-of-type {\n",
       "        vertical-align: middle;\n",
       "    }\n",
       "\n",
       "    .dataframe tbody tr th {\n",
       "        vertical-align: top;\n",
       "    }\n",
       "\n",
       "    .dataframe thead th {\n",
       "        text-align: right;\n",
       "    }\n",
       "</style>\n",
       "<table border=\"1\" class=\"dataframe\">\n",
       "  <thead>\n",
       "    <tr style=\"text-align: right;\">\n",
       "      <th></th>\n",
       "      <th>Accuracy</th>\n",
       "      <th>Recall</th>\n",
       "      <th>Roc-Auc</th>\n",
       "      <th>Precision</th>\n",
       "      <th>F1</th>\n",
       "    </tr>\n",
       "  </thead>\n",
       "  <tbody>\n",
       "    <tr>\n",
       "      <th>catboosting test</th>\n",
       "      <td>0.8515</td>\n",
       "      <td>0.1807</td>\n",
       "      <td>0.5746</td>\n",
       "      <td>0.5</td>\n",
       "      <td>0.2655</td>\n",
       "    </tr>\n",
       "  </tbody>\n",
       "</table>\n",
       "</div>"
      ],
      "text/plain": [
       "                  Accuracy  Recall  Roc-Auc  Precision      F1\n",
       "catboosting test    0.8515  0.1807   0.5746        0.5  0.2655"
      ]
     },
     "execution_count": 88,
     "metadata": {},
     "output_type": "execute_result"
    }
   ],
   "source": [
    "# Resultados en test\n",
    "res_cbtest = reportes(catboost, X_test, y_test, nombre = \"catboosting test\")\n",
    "res_cbtest"
   ]
  },
  {
   "cell_type": "code",
   "execution_count": 89,
   "id": "a363f8c8-cad1-4c2e-b1d4-87e4263fde44",
   "metadata": {},
   "outputs": [
    {
     "data": {
      "image/png": "[encoded data removed]",
      "text/plain": [
       "<Figure size 432x288 with 2 Axes>"
      ]
     },
     "metadata": {
      "needs_background": "light"
     },
     "output_type": "display_data"
    }
   ],
   "source": [
    "confusion(catboost, X_test, y_test)"
   ]
  },
  {
   "cell_type": "code",
   "execution_count": 90,
   "id": "d1577108-1d30-4def-8c45-ec783a50f794",
   "metadata": {},
   "outputs": [
    {
     "data": {
      "text/plain": [
       "<catboost.core.CatBoostClassifier at 0x7fd94384d1f0>"
      ]
     },
     "execution_count": 90,
     "metadata": {},
     "output_type": "execute_result"
    }
   ],
   "source": [
    "catboost1 = CatBoostClassifier(\n",
    "    max_depth = 4,\n",
    "    n_estimators = 300,\n",
    "    learning_rate = 0.1,\n",
    "    scale_pos_weight=3,\n",
    "    logging_level = 'Silent' #para que no salga print de iteraciones\n",
    "\n",
    ")\n",
    "\n",
    "catboost1.fit(X_train, y_train,eval_set=(X_test, y_test),early_stopping_rounds = 30,use_best_model = True)\n"
   ]
  },
  {
   "cell_type": "code",
   "execution_count": 91,
   "id": "3495b240-d2e0-46d3-8299-56ef32b6dce9",
   "metadata": {},
   "outputs": [
    {
     "data": {
      "text/html": [
       "<div>\n",
       "<style scoped>\n",
       "    .dataframe tbody tr th:only-of-type {\n",
       "        vertical-align: middle;\n",
       "    }\n",
       "\n",
       "    .dataframe tbody tr th {\n",
       "        vertical-align: top;\n",
       "    }\n",
       "\n",
       "    .dataframe thead th {\n",
       "        text-align: right;\n",
       "    }\n",
       "</style>\n",
       "<table border=\"1\" class=\"dataframe\">\n",
       "  <thead>\n",
       "    <tr style=\"text-align: right;\">\n",
       "      <th></th>\n",
       "      <th>Accuracy</th>\n",
       "      <th>Recall</th>\n",
       "      <th>Roc-Auc</th>\n",
       "      <th>Precision</th>\n",
       "      <th>F1</th>\n",
       "    </tr>\n",
       "  </thead>\n",
       "  <tbody>\n",
       "    <tr>\n",
       "      <th>cat scale train</th>\n",
       "      <td>0.8652</td>\n",
       "      <td>0.6255</td>\n",
       "      <td>0.7665</td>\n",
       "      <td>0.5433</td>\n",
       "      <td>0.5815</td>\n",
       "    </tr>\n",
       "  </tbody>\n",
       "</table>\n",
       "</div>"
      ],
      "text/plain": [
       "                 Accuracy  Recall  Roc-Auc  Precision      F1\n",
       "cat scale train    0.8652  0.6255   0.7665     0.5433  0.5815"
      ]
     },
     "execution_count": 91,
     "metadata": {},
     "output_type": "execute_result"
    }
   ],
   "source": [
    "# Resultados en train\n",
    "res_cat1train = reportes(catboost1, X_train, y_train, nombre = \"cat scale train\")\n",
    "res_cat1train"
   ]
  },
  {
   "cell_type": "code",
   "execution_count": 92,
   "id": "028bab39-abf5-48cd-871f-eb0d1aaf185b",
   "metadata": {},
   "outputs": [
    {
     "data": {
      "text/html": [
       "<div>\n",
       "<style scoped>\n",
       "    .dataframe tbody tr th:only-of-type {\n",
       "        vertical-align: middle;\n",
       "    }\n",
       "\n",
       "    .dataframe tbody tr th {\n",
       "        vertical-align: top;\n",
       "    }\n",
       "\n",
       "    .dataframe thead th {\n",
       "        text-align: right;\n",
       "    }\n",
       "</style>\n",
       "<table border=\"1\" class=\"dataframe\">\n",
       "  <thead>\n",
       "    <tr style=\"text-align: right;\">\n",
       "      <th></th>\n",
       "      <th>Accuracy</th>\n",
       "      <th>Recall</th>\n",
       "      <th>Roc-Auc</th>\n",
       "      <th>Precision</th>\n",
       "      <th>F1</th>\n",
       "    </tr>\n",
       "  </thead>\n",
       "  <tbody>\n",
       "    <tr>\n",
       "      <th>cat scale test</th>\n",
       "      <td>0.8193</td>\n",
       "      <td>0.4096</td>\n",
       "      <td>0.6502</td>\n",
       "      <td>0.3953</td>\n",
       "      <td>0.4024</td>\n",
       "    </tr>\n",
       "  </tbody>\n",
       "</table>\n",
       "</div>"
      ],
      "text/plain": [
       "                Accuracy  Recall  Roc-Auc  Precision      F1\n",
       "cat scale test    0.8193  0.4096   0.6502     0.3953  0.4024"
      ]
     },
     "execution_count": 92,
     "metadata": {},
     "output_type": "execute_result"
    }
   ],
   "source": [
    "# Resultados en test\n",
    "res_cat1test = reportes(catboost1, X_test, y_test, nombre = \"cat scale test\")\n",
    "res_cat1test"
   ]
  },
  {
   "cell_type": "code",
   "execution_count": 93,
   "id": "e7e525dd-1904-41f4-93f1-b11c2f28d98d",
   "metadata": {},
   "outputs": [
    {
     "data": {
      "image/png": "[encoded data removed]",
      "text/plain": [
       "<Figure size 432x288 with 2 Axes>"
      ]
     },
     "metadata": {
      "needs_background": "light"
     },
     "output_type": "display_data"
    }
   ],
   "source": [
    "confusion(catboost1, X_test, y_test)"
   ]
  },
  {
   "cell_type": "markdown",
   "id": "a0e390d3-aeb6-48fb-978e-5f2c52d3854e",
   "metadata": {},
   "source": [
    "### Light GBM"
   ]
  },
  {
   "cell_type": "code",
   "execution_count": 94,
   "id": "e43e980a-b173-4193-960c-b1d6a7e9d44f",
   "metadata": {},
   "outputs": [
    {
     "data": {
      "text/html": [
       "<style>#sk-container-id-9 {color: black;background-color: white;}#sk-container-id-9 pre{padding: 0;}#sk-container-id-9 div.sk-toggleable {background-color: white;}#sk-container-id-9 label.sk-toggleable__label {cursor: pointer;display: block;width: 100%;margin-bottom: 0;padding: 0.3em;box-sizing: border-box;text-align: center;}#sk-container-id-9 label.sk-toggleable__label-arrow:before {content: \"▸\";float: left;margin-right: 0.25em;color: #696969;}#sk-container-id-9 label.sk-toggleable__label-arrow:hover:before {color: black;}#sk-container-id-9 div.sk-estimator:hover label.sk-toggleable__label-arrow:before {color: black;}#sk-container-id-9 div.sk-toggleable__content {max-height: 0;max-width: 0;overflow: hidden;text-align: left;background-color: #f0f8ff;}#sk-container-id-9 div.sk-toggleable__content pre {margin: 0.2em;color: black;border-radius: 0.25em;background-color: #f0f8ff;}#sk-container-id-9 input.sk-toggleable__control:checked~div.sk-toggleable__content {max-height: 200px;max-width: 100%;overflow: auto;}#sk-container-id-9 input.sk-toggleable__control:checked~label.sk-toggleable__label-arrow:before {content: \"▾\";}#sk-container-id-9 div.sk-estimator input.sk-toggleable__control:checked~label.sk-toggleable__label {background-color: #d4ebff;}#sk-container-id-9 div.sk-label input.sk-toggleable__control:checked~label.sk-toggleable__label {background-color: #d4ebff;}#sk-container-id-9 input.sk-hidden--visually {border: 0;clip: rect(1px 1px 1px 1px);clip: rect(1px, 1px, 1px, 1px);height: 1px;margin: -1px;overflow: hidden;padding: 0;position: absolute;width: 1px;}#sk-container-id-9 div.sk-estimator {font-family: monospace;background-color: #f0f8ff;border: 1px dotted black;border-radius: 0.25em;box-sizing: border-box;margin-bottom: 0.5em;}#sk-container-id-9 div.sk-estimator:hover {background-color: #d4ebff;}#sk-container-id-9 div.sk-parallel-item::after {content: \"\";width: 100%;border-bottom: 1px solid gray;flex-grow: 1;}#sk-container-id-9 div.sk-label:hover label.sk-toggleable__label {background-color: #d4ebff;}#sk-container-id-9 div.sk-serial::before {content: \"\";position: absolute;border-left: 1px solid gray;box-sizing: border-box;top: 0;bottom: 0;left: 50%;z-index: 0;}#sk-container-id-9 div.sk-serial {display: flex;flex-direction: column;align-items: center;background-color: white;padding-right: 0.2em;padding-left: 0.2em;position: relative;}#sk-container-id-9 div.sk-item {position: relative;z-index: 1;}#sk-container-id-9 div.sk-parallel {display: flex;align-items: stretch;justify-content: center;background-color: white;position: relative;}#sk-container-id-9 div.sk-item::before, #sk-container-id-9 div.sk-parallel-item::before {content: \"\";position: absolute;border-left: 1px solid gray;box-sizing: border-box;top: 0;bottom: 0;left: 50%;z-index: -1;}#sk-container-id-9 div.sk-parallel-item {display: flex;flex-direction: column;z-index: 1;position: relative;background-color: white;}#sk-container-id-9 div.sk-parallel-item:first-child::after {align-self: flex-end;width: 50%;}#sk-container-id-9 div.sk-parallel-item:last-child::after {align-self: flex-start;width: 50%;}#sk-container-id-9 div.sk-parallel-item:only-child::after {width: 0;}#sk-container-id-9 div.sk-dashed-wrapped {border: 1px dashed gray;margin: 0 0.4em 0.5em 0.4em;box-sizing: border-box;padding-bottom: 0.4em;background-color: white;}#sk-container-id-9 div.sk-label label {font-family: monospace;font-weight: bold;display: inline-block;line-height: 1.2em;}#sk-container-id-9 div.sk-label-container {text-align: center;}#sk-container-id-9 div.sk-container {/* jupyter's `normalize.less` sets `[hidden] { display: none; }` but bootstrap.min.css set `[hidden] { display: none !important; }` so we also need the `!important` here to be able to override the default hidden behavior on the sphinx rendered scikit-learn.org. See: https://github.com/scikit-learn/scikit-learn/issues/21755 */display: inline-block !important;position: relative;}#sk-container-id-9 div.sk-text-repr-fallback {display: none;}</style><div id=\"sk-container-id-9\" class=\"sk-top-container\"><div class=\"sk-text-repr-fallback\"><pre>LGBMClassifier(random_state=0)</pre><b>In a Jupyter environment, please rerun this cell to show the HTML representation or trust the notebook. <br />On GitHub, the HTML representation is unable to render, please try loading this page with nbviewer.org.</b></div><div class=\"sk-container\" hidden><div class=\"sk-item\"><div class=\"sk-estimator sk-toggleable\"><input class=\"sk-toggleable__control sk-hidden--visually\" id=\"sk-estimator-id-9\" type=\"checkbox\" checked><label for=\"sk-estimator-id-9\" class=\"sk-toggleable__label sk-toggleable__label-arrow\">LGBMClassifier</label><div class=\"sk-toggleable__content\"><pre>LGBMClassifier(random_state=0)</pre></div></div></div></div></div>"
      ],
      "text/plain": [
       "LGBMClassifier(random_state=0)"
      ]
     },
     "execution_count": 94,
     "metadata": {},
     "output_type": "execute_result"
    }
   ],
   "source": [
    "lgbmc_base=LGBMClassifier(random_state=0)\n",
    "\n",
    "lgbmc_base.fit(X_train, y_train,categorical_feature = 'auto',eval_set=(X_test, y_test),feature_name='auto', verbose=0)\n"
   ]
  },
  {
   "cell_type": "code",
   "execution_count": 95,
   "id": "740579b7-db2c-49b3-b6eb-d6a2cb0e6fcf",
   "metadata": {},
   "outputs": [
    {
     "data": {
      "text/html": [
       "<div>\n",
       "<style scoped>\n",
       "    .dataframe tbody tr th:only-of-type {\n",
       "        vertical-align: middle;\n",
       "    }\n",
       "\n",
       "    .dataframe tbody tr th {\n",
       "        vertical-align: top;\n",
       "    }\n",
       "\n",
       "    .dataframe thead th {\n",
       "        text-align: right;\n",
       "    }\n",
       "</style>\n",
       "<table border=\"1\" class=\"dataframe\">\n",
       "  <thead>\n",
       "    <tr style=\"text-align: right;\">\n",
       "      <th></th>\n",
       "      <th>Accuracy</th>\n",
       "      <th>Recall</th>\n",
       "      <th>Roc-Auc</th>\n",
       "      <th>Precision</th>\n",
       "      <th>F1</th>\n",
       "    </tr>\n",
       "  </thead>\n",
       "  <tbody>\n",
       "    <tr>\n",
       "      <th>light gbm train</th>\n",
       "      <td>0.9893</td>\n",
       "      <td>0.9402</td>\n",
       "      <td>0.9691</td>\n",
       "      <td>0.9874</td>\n",
       "      <td>0.9633</td>\n",
       "    </tr>\n",
       "  </tbody>\n",
       "</table>\n",
       "</div>"
      ],
      "text/plain": [
       "                 Accuracy  Recall  Roc-Auc  Precision      F1\n",
       "light gbm train    0.9893  0.9402   0.9691     0.9874  0.9633"
      ]
     },
     "execution_count": 95,
     "metadata": {},
     "output_type": "execute_result"
    }
   ],
   "source": [
    "# Resultados en train\n",
    "res_lgbmtrain = reportes(lgbmc_base, X_train, y_train, nombre = \"light gbm train\")\n",
    "res_lgbmtrain"
   ]
  },
  {
   "cell_type": "code",
   "execution_count": 96,
   "id": "72d6b43b-c858-4a84-9ae4-8f233901fc17",
   "metadata": {},
   "outputs": [
    {
     "data": {
      "text/html": [
       "<div>\n",
       "<style scoped>\n",
       "    .dataframe tbody tr th:only-of-type {\n",
       "        vertical-align: middle;\n",
       "    }\n",
       "\n",
       "    .dataframe tbody tr th {\n",
       "        vertical-align: top;\n",
       "    }\n",
       "\n",
       "    .dataframe thead th {\n",
       "        text-align: right;\n",
       "    }\n",
       "</style>\n",
       "<table border=\"1\" class=\"dataframe\">\n",
       "  <thead>\n",
       "    <tr style=\"text-align: right;\">\n",
       "      <th></th>\n",
       "      <th>Accuracy</th>\n",
       "      <th>Recall</th>\n",
       "      <th>Roc-Auc</th>\n",
       "      <th>Precision</th>\n",
       "      <th>F1</th>\n",
       "    </tr>\n",
       "  </thead>\n",
       "  <tbody>\n",
       "    <tr>\n",
       "      <th>light gbm test</th>\n",
       "      <td>0.8301</td>\n",
       "      <td>0.3012</td>\n",
       "      <td>0.6117</td>\n",
       "      <td>0.4032</td>\n",
       "      <td>0.3448</td>\n",
       "    </tr>\n",
       "  </tbody>\n",
       "</table>\n",
       "</div>"
      ],
      "text/plain": [
       "                Accuracy  Recall  Roc-Auc  Precision      F1\n",
       "light gbm test    0.8301  0.3012   0.6117     0.4032  0.3448"
      ]
     },
     "execution_count": 96,
     "metadata": {},
     "output_type": "execute_result"
    }
   ],
   "source": [
    "# Resultados en test\n",
    "res_lgbmtest = reportes(lgbmc_base, X_test, y_test, nombre = \"light gbm test\")\n",
    "res_lgbmtest"
   ]
  },
  {
   "cell_type": "code",
   "execution_count": 97,
   "id": "c32e13b7-8828-4dcf-a92d-d4e63b9ca9d0",
   "metadata": {},
   "outputs": [
    {
     "data": {
      "image/png": "[encoded data removed]",
      "text/plain": [
       "<Figure size 432x288 with 2 Axes>"
      ]
     },
     "metadata": {
      "needs_background": "light"
     },
     "output_type": "display_data"
    }
   ],
   "source": [
    "confusion(lgbmc_base, X_test, y_test)"
   ]
  },
  {
   "cell_type": "markdown",
   "id": "4f95cbc0-2227-4283-8ea2-e692da2a2aaf",
   "metadata": {},
   "source": [
    "## Comparaciones de modelos"
   ]
  },
  {
   "cell_type": "code",
   "execution_count": 98,
   "id": "f15e5987-cb60-4d2e-93df-07e2090c192f",
   "metadata": {},
   "outputs": [
    {
     "data": {
      "text/html": [
       "<div>\n",
       "<style scoped>\n",
       "    .dataframe tbody tr th:only-of-type {\n",
       "        vertical-align: middle;\n",
       "    }\n",
       "\n",
       "    .dataframe tbody tr th {\n",
       "        vertical-align: top;\n",
       "    }\n",
       "\n",
       "    .dataframe thead th {\n",
       "        text-align: right;\n",
       "    }\n",
       "</style>\n",
       "<table border=\"1\" class=\"dataframe\">\n",
       "  <thead>\n",
       "    <tr style=\"text-align: right;\">\n",
       "      <th></th>\n",
       "      <th>Accuracy</th>\n",
       "      <th>Recall</th>\n",
       "      <th>Roc-Auc</th>\n",
       "      <th>Precision</th>\n",
       "      <th>F1</th>\n",
       "    </tr>\n",
       "  </thead>\n",
       "  <tbody>\n",
       "    <tr>\n",
       "      <th>rf train</th>\n",
       "      <td>0.9219</td>\n",
       "      <td>0.4781</td>\n",
       "      <td>0.7390</td>\n",
       "      <td>1.0000</td>\n",
       "      <td>0.6469</td>\n",
       "    </tr>\n",
       "    <tr>\n",
       "      <th>rf test</th>\n",
       "      <td>0.8515</td>\n",
       "      <td>0.1687</td>\n",
       "      <td>0.5696</td>\n",
       "      <td>0.5000</td>\n",
       "      <td>0.2523</td>\n",
       "    </tr>\n",
       "    <tr>\n",
       "      <th>gbm train</th>\n",
       "      <td>0.8557</td>\n",
       "      <td>0.5339</td>\n",
       "      <td>0.7231</td>\n",
       "      <td>0.5174</td>\n",
       "      <td>0.5255</td>\n",
       "    </tr>\n",
       "    <tr>\n",
       "      <th>gbm test</th>\n",
       "      <td>0.7996</td>\n",
       "      <td>0.4096</td>\n",
       "      <td>0.6386</td>\n",
       "      <td>0.3505</td>\n",
       "      <td>0.3778</td>\n",
       "    </tr>\n",
       "    <tr>\n",
       "      <th>catboosting train</th>\n",
       "      <td>0.8903</td>\n",
       "      <td>0.3347</td>\n",
       "      <td>0.6614</td>\n",
       "      <td>0.8317</td>\n",
       "      <td>0.4773</td>\n",
       "    </tr>\n",
       "    <tr>\n",
       "      <th>catboosting test</th>\n",
       "      <td>0.8515</td>\n",
       "      <td>0.1807</td>\n",
       "      <td>0.5746</td>\n",
       "      <td>0.5000</td>\n",
       "      <td>0.2655</td>\n",
       "    </tr>\n",
       "    <tr>\n",
       "      <th>cat scale train</th>\n",
       "      <td>0.8652</td>\n",
       "      <td>0.6255</td>\n",
       "      <td>0.7665</td>\n",
       "      <td>0.5433</td>\n",
       "      <td>0.5815</td>\n",
       "    </tr>\n",
       "    <tr>\n",
       "      <th>cat scale test</th>\n",
       "      <td>0.8193</td>\n",
       "      <td>0.4096</td>\n",
       "      <td>0.6502</td>\n",
       "      <td>0.3953</td>\n",
       "      <td>0.4024</td>\n",
       "    </tr>\n",
       "    <tr>\n",
       "      <th>ada train</th>\n",
       "      <td>0.8784</td>\n",
       "      <td>0.3546</td>\n",
       "      <td>0.6626</td>\n",
       "      <td>0.6794</td>\n",
       "      <td>0.4660</td>\n",
       "    </tr>\n",
       "    <tr>\n",
       "      <th>ada test</th>\n",
       "      <td>0.8354</td>\n",
       "      <td>0.2169</td>\n",
       "      <td>0.5801</td>\n",
       "      <td>0.4000</td>\n",
       "      <td>0.2812</td>\n",
       "    </tr>\n",
       "  </tbody>\n",
       "</table>\n",
       "</div>"
      ],
      "text/plain": [
       "                   Accuracy  Recall  Roc-Auc  Precision      F1\n",
       "rf train             0.9219  0.4781   0.7390     1.0000  0.6469\n",
       "rf test              0.8515  0.1687   0.5696     0.5000  0.2523\n",
       "gbm train            0.8557  0.5339   0.7231     0.5174  0.5255\n",
       "gbm test             0.7996  0.4096   0.6386     0.3505  0.3778\n",
       "catboosting train    0.8903  0.3347   0.6614     0.8317  0.4773\n",
       "catboosting test     0.8515  0.1807   0.5746     0.5000  0.2655\n",
       "cat scale train      0.8652  0.6255   0.7665     0.5433  0.5815\n",
       "cat scale test       0.8193  0.4096   0.6502     0.3953  0.4024\n",
       "ada train            0.8784  0.3546   0.6626     0.6794  0.4660\n",
       "ada test             0.8354  0.2169   0.5801     0.4000  0.2812"
      ]
     },
     "execution_count": 98,
     "metadata": {},
     "output_type": "execute_result"
    }
   ],
   "source": [
    "final = pd.concat([res_rftrain, res_rftest, res_gbmtrain, res_gbmtest, res_cbtrain, res_cbtest, res_cat1train, res_cat1test, res_adatrain, res_adatest], axis = 0)\n",
    "final"
   ]
  },
  {
   "cell_type": "code",
   "execution_count": 99,
   "id": "2d44ca18-af9f-41d1-a120-78751b578a1e",
   "metadata": {},
   "outputs": [
    {
     "data": {
      "image/png": "[encoded data removed]",
      "text/plain": [
       "<Figure size 864x864 with 1 Axes>"
      ]
     },
     "metadata": {
      "needs_background": "light"
     },
     "output_type": "display_data"
    }
   ],
   "source": [
    "\n",
    "feature_names = X.columns\n",
    "importances = ada.feature_importances_\n",
    "indices = np.argsort(importances)\n",
    "\n",
    "plt.figure(figsize=(12, 12))\n",
    "plt.title(\"Importancia de variables\")\n",
    "plt.barh(range(len(indices)), importances[indices], color=\"lightblue\", align=\"center\")\n",
    "plt.yticks(range(len(indices)), [feature_names[i] for i in indices])\n",
    "plt.xlabel(\"Importancia relativa\")\n",
    "plt.show()\n",
    "\n"
   ]
  },
  {
   "cell_type": "code",
   "execution_count": 58,
   "id": "82546956-1e5d-4983-89d0-4850dab05858",
   "metadata": {},
   "outputs": [],
   "source": [
    "import pickle\n",
    "# Guarda el modelo\n",
    "pickle.dump(ada, open('model.pkl','wb'))"
   ]
  }
 ],
 "metadata": {
  "kernelspec": {
   "display_name": "Python 3 (ipykernel)",
   "language": "python",
   "name": "python3"
  },
  "language_info": {
   "codemirror_mode": {
    "name": "ipython",
    "version": 3
   },
   "file_extension": ".py",
   "mimetype": "text/x-python",
   "name": "python",
   "nbconvert_exporter": "python",
   "pygments_lexer": "ipython3",
   "version": "3.9.7"
  }
 },
 "nbformat": 4,
 "nbformat_minor": 5
}
