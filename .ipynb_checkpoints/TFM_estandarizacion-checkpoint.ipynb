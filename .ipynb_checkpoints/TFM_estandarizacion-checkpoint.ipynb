{
 "cells": [
  {
   "cell_type": "code",
   "execution_count": 12,
   "id": "feff1f03-9594-4c5f-b2ce-e189e1d29163",
   "metadata": {},
   "outputs": [],
   "source": [
    "import pandas as pd\n",
    "import numpy as np\n",
    "from sklearn.preprocessing import StandardScaler, RobustScaler"
   ]
  },
  {
   "cell_type": "markdown",
   "id": "a681d0d0-d383-464b-9ad4-66cb005e1891",
   "metadata": {
    "tags": []
   },
   "source": [
    "## Determinar el mejor metodo de estandarizacion"
   ]
  },
  {
   "cell_type": "code",
   "execution_count": 13,
   "id": "ea630e23-48bd-4779-9680-0735d655d925",
   "metadata": {},
   "outputs": [],
   "source": [
    "# Lectura de los datos\n",
    "df = pd.read_csv(\"./superstore_clean.csv\")"
   ]
  },
  {
   "cell_type": "code",
   "execution_count": 14,
   "id": "e5e1ba1a-0c69-4769-9b10-35dda2922c10",
   "metadata": {},
   "outputs": [],
   "source": [
    "data = df.copy()"
   ]
  },
  {
   "cell_type": "code",
   "execution_count": 15,
   "id": "f6cb98e2-91b0-490e-8fe3-e075cebb0681",
   "metadata": {
    "colab": {
     "base_uri": "https://localhost:8080/"
    },
    "executionInfo": {
     "elapsed": 211,
     "status": "ok",
     "timestamp": 1676061254443,
     "user": {
      "displayName": "Ivonne Valeska Yañez Mendoza",
      "userId": "11758861127339342042"
     },
     "user_tz": -60
    },
    "id": "-07yKD9ECQVB",
    "outputId": "40f1f673-7b3a-4bfe-aa26-8c3ef6502faa"
   },
   "outputs": [
    {
     "name": "stdout",
     "output_type": "stream",
     "text": [
      "Index(['Education_Graduation', 'Education_PhD', 'Education_Master',\n",
      "       'Education_Basic', 'Marital_Status_Divorced', 'Marital_Status_Single',\n",
      "       'Marital_Status_Married', 'Income', 'Kidhome', 'Teenhome', 'Recency',\n",
      "       'MntWines', 'MntFruits', 'MntMeatProducts', 'MntFishProducts',\n",
      "       'MntSweetProducts', 'MntGoldProds', 'NumDealsPurchases',\n",
      "       'NumWebPurchases', 'NumCatalogPurchases', 'NumStorePurchases',\n",
      "       'NumWebVisitsMonth', 'Response', 'Complain', 'Edad', 'Dt_Customer_year',\n",
      "       'tiempo_participacion'],\n",
      "      dtype='object')\n"
     ]
    }
   ],
   "source": [
    "cols = data.select_dtypes([np.number]).columns\n",
    "print (cols)"
   ]
  },
  {
   "cell_type": "code",
   "execution_count": 16,
   "id": "1b6cc1fe-78f3-4f78-a238-8c5b74ef1ba9",
   "metadata": {},
   "outputs": [],
   "source": [
    "pruebas = data\n",
    "objetivo = pruebas.Response\n",
    "columnas = pruebas[['Education_Graduation', 'Education_PhD', 'Education_Master',\n",
    "       'Education_Basic', 'Marital_Status_Divorced', 'Marital_Status_Single',\n",
    "       'Marital_Status_Married', 'Income', 'Kidhome', 'Teenhome', 'Recency',\n",
    "       'MntWines', 'MntFruits', 'MntMeatProducts', 'MntFishProducts',\n",
    "       'MntSweetProducts', 'MntGoldProds', 'NumDealsPurchases',\n",
    "       'NumWebPurchases', 'NumCatalogPurchases', 'NumStorePurchases',\n",
    "       'NumWebVisitsMonth', 'Complain', 'Edad', 'Dt_Customer_year',\n",
    "       'tiempo_participacion']]\n",
    "\n"
   ]
  },
  {
   "cell_type": "code",
   "execution_count": 17,
   "id": "26851b1d-d2f2-4a92-92eb-ad8445b37faf",
   "metadata": {},
   "outputs": [
    {
     "ename": "NameError",
     "evalue": "name 'RobustScaler' is not defined",
     "output_type": "error",
     "traceback": [
      "\u001b[0;31m---------------------------------------------------------------------------\u001b[0m",
      "\u001b[0;31mNameError\u001b[0m                                 Traceback (most recent call last)",
      "Input \u001b[0;32mIn [17]\u001b[0m, in \u001b[0;36m<cell line: 3>\u001b[0;34m()\u001b[0m\n\u001b[1;32m      1\u001b[0m \u001b[38;5;66;03m# Separa las variables numericas\u001b[39;00m\n\u001b[1;32m      2\u001b[0m ss \u001b[38;5;241m=\u001b[39m StandardScaler()\n\u001b[0;32m----> 3\u001b[0m rs \u001b[38;5;241m=\u001b[39m \u001b[43mRobustScaler\u001b[49m()\n\u001b[1;32m      4\u001b[0m qt \u001b[38;5;241m=\u001b[39m QuantileTransformer(output_distribution\u001b[38;5;241m=\u001b[39m\u001b[38;5;124m'\u001b[39m\u001b[38;5;124mnormal\u001b[39m\u001b[38;5;124m'\u001b[39m)\n\u001b[1;32m      5\u001b[0m yj \u001b[38;5;241m=\u001b[39m PowerTransformer(method \u001b[38;5;241m=\u001b[39m \u001b[38;5;124m'\u001b[39m\u001b[38;5;124myeo-johnson\u001b[39m\u001b[38;5;124m'\u001b[39m)\n",
      "\u001b[0;31mNameError\u001b[0m: name 'RobustScaler' is not defined"
     ]
    }
   ],
   "source": [
    "# Separa las variables numericas\n",
    "ss = StandardScaler()\n",
    "rs = RobustScaler()\n",
    "qt = QuantileTransformer(output_distribution='normal')\n",
    "yj = PowerTransformer(method = 'yeo-johnson')\n",
    "bc = PowerTransformer(method='box-cox')\n",
    "\n",
    "\n",
    "# Evalua todo\n",
    "for col in columnas:\n",
    "    X = pruebas[[col]]\n",
    "    standard = ss.fit_transform(X)\n",
    "    robust = rs.fit_transform(X)\n",
    "    quantile = qt.fit_transform(X)\n",
    "    yeo = yj.fit_transform(X)\n",
    "    boxcox = bc.fit_transform(X+1)\n",
    "\n",
    "    plt.figure(figsize=(20,5))\n",
    "    plt.subplot(1,6,1)\n",
    "    plt.title(\"Original \" + col)\n",
    "    sns.histplot(X, kde=True)\n",
    "    plt.subplot(1,6,2)\n",
    "    plt.title('Standard Scaler')\n",
    "    sns.histplot(standard, kde=True)\n",
    "    plt.subplot(1,6,3)\n",
    "    plt.title('Robust Scaler')\n",
    "    sns.histplot(robust, kde=True)\n",
    "    plt.subplot(1,6,4)\n",
    "    plt.title('Quantile')\n",
    "    sns.histplot(quantile, kde=True)\n",
    "    plt.subplot(1,6,5)\n",
    "    plt.title('Yeo-Johnson')\n",
    "    sns.histplot(yeo, kde=True)\n",
    "    plt.subplot(1,6,6)\n",
    "    plt.title('BoxCox')\n",
    "    sns.histplot(boxcox, kde=True)\n",
    "    plt.subplots_adjust(wspace=0.5)\n",
    "fig.tight_layout()\n",
    "plt.show()\n",
    "    \n",
    "# Para este ejercicio es mejor la estandarizacion por quantiles"
   ]
  },
  {
   "cell_type": "code",
   "execution_count": null,
   "id": "c792cdda-4e59-4c38-98db-31be1b26421f",
   "metadata": {},
   "outputs": [],
   "source": []
  },
  {
   "cell_type": "code",
   "execution_count": null,
   "id": "3b1c1183-1ef2-418c-ae60-1a82f3049997",
   "metadata": {},
   "outputs": [],
   "source": []
  }
 ],
 "metadata": {
  "kernelspec": {
   "display_name": "Python 3 (ipykernel)",
   "language": "python",
   "name": "python3"
  },
  "language_info": {
   "codemirror_mode": {
    "name": "ipython",
    "version": 3
   },
   "file_extension": ".py",
   "mimetype": "text/x-python",
   "name": "python",
   "nbconvert_exporter": "python",
   "pygments_lexer": "ipython3",
   "version": "3.9.7"
  }
 },
 "nbformat": 4,
 "nbformat_minor": 5
}
